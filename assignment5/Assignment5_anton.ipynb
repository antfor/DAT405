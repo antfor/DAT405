{
 "cells": [
  {
   "cell_type": "code",
   "execution_count": 1,
   "metadata": {},
   "outputs": [],
   "source": [
    "def value(s,sp, Ra, V, gamma, P ): \n",
    "    \n",
    "    if(sp[0] < 0 or sp[0] >= len(Ra[0])): # FLYTTA ?\n",
    "        return -1\n",
    "       \n",
    "    if(sp[1] < 0 or sp[1] >= len(Ra)):\n",
    "        return -1\n",
    "    \n",
    "    return P*(Ra[sp[0]][sp[1]]+ gamma * V[sp[0]][sp[1]]) + (1-P)* (Ra[s[0]][s[1]] + gamma * V[s[0]][s[1]])"
   ]
  },
  {
   "cell_type": "code",
   "execution_count": 2,
   "metadata": {},
   "outputs": [],
   "source": [
    "def BellmanStep(Ra, V, gamma, P):\n",
    "    Vn = [x[:] for x in V] # todo fix \n",
    "    \n",
    "    for row in range(len(V)):\n",
    "        \n",
    "        for col in range(len(V[0])):\n",
    "            maxL = []  \n",
    "            s = (row,col)\n",
    "            E = (s[0]+1,s[1])\n",
    "            W = (s[0]-1,s[1])\n",
    "            N = (s[0],s[1]+1)\n",
    "            S = (s[0],s[1]-1)\n",
    "            action = [E,W,N,S]\n",
    "            \n",
    "            for sp in action:\n",
    "                maxL.append(value(s,sp, Ra, V, gamma, P))\n",
    "            maxValue = max(maxL)\n",
    "            Vn[row][col] = maxValue\n",
    "    \n",
    "    return Vn                     \n",
    "    "
   ]
  },
  {
   "cell_type": "code",
   "execution_count": 3,
   "metadata": {},
   "outputs": [],
   "source": [
    "def Bellman(Ra, V, gamma, P, i):\n",
    "    \n",
    "    for x in range(i):\n",
    "        V = BellmanStep(Ra, V, gamma, P);\n",
    "        \n",
    "\n",
    "    return V\n",
    "    "
   ]
  },
  {
   "cell_type": "code",
   "execution_count": 4,
   "metadata": {},
   "outputs": [],
   "source": [
    "def Bellman(Ra, V, gamma, P):\n",
    "    while(True):\n",
    "        Vn = BellmanStep(Ra, V, gamma, P);\n",
    "        if (Vn == V):\n",
    "            break;\n",
    "        V = Vn\n",
    "        \n",
    "    return V"
   ]
  },
  {
   "cell_type": "code",
   "execution_count": 5,
   "metadata": {},
   "outputs": [
    {
     "data": {
      "text/plain": [
       "[[45.61292366170413, 51.948051948051926, 45.61292366170413],\n",
       " [51.948051948051926, 48.05194805194803, 51.948051948051926],\n",
       " [45.61292366170413, 51.948051948051926, 45.61292366170413]]"
      ]
     },
     "execution_count": 5,
     "metadata": {},
     "output_type": "execute_result"
    }
   ],
   "source": [
    "Ra = [[0,0,0],[0,10,0],[0,0,0]]\n",
    "V = [[0,0,0],[0,0,0],[0,0,0]] \n",
    "gamma = 0.9\n",
    "P = 0.8\n",
    "i = 10000\n",
    "\n",
    "Bellman(Ra, V, gamma, P)"
   ]
  }
 ],
 "metadata": {
  "kernelspec": {
   "display_name": "Python 3",
   "language": "python",
   "name": "python3"
  },
  "language_info": {
   "codemirror_mode": {
    "name": "ipython",
    "version": 3
   },
   "file_extension": ".py",
   "mimetype": "text/x-python",
   "name": "python",
   "nbconvert_exporter": "python",
   "pygments_lexer": "ipython3",
   "version": "3.7.3"
  }
 },
 "nbformat": 4,
 "nbformat_minor": 2
}
