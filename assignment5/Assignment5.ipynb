{
 "cells": [
  {
   "cell_type": "markdown",
   "metadata": {},
   "source": [
    "$\\qquad$ $\\qquad$$\\qquad$  **DAT405 Introduction to Data Science and AI, 2019-2020, Reading Period 3** <br />\n",
    "$\\qquad$ $\\qquad$$\\qquad$                   **Assignment 5: Reinforcement learning and Classification 2** <br />\n",
    "$\\qquad$ $\\qquad$$\\qquad$                   **Grader: Divya** <br />\n",
    "$\\qquad$ $\\qquad$$\\qquad$                     **Due Date: 1st March, 23:59** <br />\n",
    "$\\qquad$ $\\qquad$$\\qquad$                   **Submitted by: Name, Personal No., Email** <br />\n",
    "\n",
    "\n",
    "---\n",
    "\n",
    "\n",
    "General guidelines:\n",
    "*   All solutions to theoretical and pratical problems must be submitted in this ipynb notebook, and equations wherever required, should be formatted using LaTeX math-mode.\n",
    "*   All discussion regarding practical problems, along with solutions and plots should be specified in this notebook. All plots/results should be visible such that the notebook do not have to be run. But the code in the notebook should reproduce the plots/results if we choose to do so.\n",
    "*   Your name, personal number and email address should be specified above.\n",
    "*   All tables and other additional information should be included in this notebook.\n",
    "*   Before submitting, make sure that your code can run on another computer. That all plots can show on another computer including all your writing. It is good to check if your code can run here: https://colab.research.google.com.\n"
   ]
  },
  {
   "cell_type": "markdown",
   "metadata": {},
   "source": [
    "Self-check \n",
    "1. Have you answered all questions to the best of your ability? \n",
    "2. Anything else you can easily check? (details, terminology, arguments, commenting for code etc.?) \n",
    "\n",
    "Grading will be based on a qualitative assessment of each assignment. It is important to:\n",
    "*\tPresent clear arguments\n",
    "*\tPresent the results in a pedagogical way\n",
    "*\tShow understanding of the topics (e.g, write a pseudocode) \n",
    "*\tGive correct solutions\n",
    "*\tMake sure that the code is well commented \n",
    "\n",
    "**Again, as mentioned in general guidelines, all code should be written here. And this same ipython notebook file (RLAssignment.ipynb) should be submitted with answers and code written in it. NO SEPERATE FILE SHALL BE ACCEPTED.** \n"
   ]
  },
  {
   "cell_type": "markdown",
   "metadata": {},
   "source": [
    "# Primer\n",
    "\n",
    "## Decision Making\n",
    "The problem of **decision making under uncertainty** (commonly known as **reinforcement learning**) can be broken down into\n",
    "two parts. First, how do we learn about the world? This involves both the\n",
    "problem of modeling our initial uncertainty about the world, and that of drawing conclusions from evidence and our initial belief. Secondly, given what we\n",
    "currently know about the world, how should we decide what to do, taking into\n",
    "account future events and observations that may change our conclusions?\n",
    "Typically, this will involve creating long-term plans covering possible future\n",
    "eventualities. That is, when planning under uncertainty, we also need to take\n",
    "into account what possible future knowledge could be generated when implementing our plans. Intuitively, executing plans which involve trying out new\n",
    "things should give more information, but it is hard to tell whether this information will be beneficial. The choice between doing something which is already\n",
    "known to produce good results and experiment with something new is known\n",
    "as the **exploration-exploitation dilemma**.\n",
    "\n",
    "## The exploration-exploitation trade-off\n",
    "\n",
    "Consider the problem of selecting a restaurant to go to during a vacation.Lets say the\n",
    "best restaurant you have found so far was **Les Epinards**. The food there is\n",
    "usually to your taste and satisfactory. However, a well-known recommendations\n",
    "website suggests that **King’s Arm** is really good! It is tempting to try it out. But\n",
    "there is a risk involved. It may turn out to be much worse than **Les Epinards**,\n",
    "in which case you will regret going there. On the other hand, it could also be\n",
    "much better. What should you do?\n",
    "It all depends on how much information you have about either restaurant,\n",
    "and how many more days you’ll stay in town. If this is your last day, then it’s\n",
    "probably a better idea to go to **Les Epinards**, unless you are expecting **King’s\n",
    "Arm** to be significantly better. However, if you are going to stay there longer,\n",
    "trying out **King’s Arm** is a good bet. If you are lucky, you will be getting much\n",
    "better food for the remaining time, while otherwise you will have missed only\n",
    "one good meal out of many, making the potential risk quite small."
   ]
  },
  {
   "cell_type": "markdown",
   "metadata": {},
   "source": [
    "## Overview\n",
    "* To make things concrete, we will first focus on decision making under **no** uncertainity, i.e, given we have a world model, we can calculate the exact and optimal actions to take in it. We shall first introduce **Markov Decision Process (MDP)** as the world model. Then we give one algorithm (out of many) to solve it.\n",
    "\n",
    "\n",
    "* Next, we will work through one type of reinforcement learning algorithm called Q-learning. Q-learning is an algorithm for making decisions under uncertainity, where uncertainity is over the possible world model (here MDP). It will find the optimal policy for the **unknown** MDP, assuming we do infinite exploration."
   ]
  },
  {
   "cell_type": "markdown",
   "metadata": {},
   "source": [
    "## Markov Decision Process"
   ]
  },
  {
   "cell_type": "markdown",
   "metadata": {},
   "source": [
    "Markov Decision Process (MDP) provides a mathematical framework for modeling decision-making. It is a discrete time (distinct points in time) stochastic (randomly determined) process.\n",
    "\n",
    "MDPs are made up of 4 parts:  \n",
    "S: Finite set of states (Ex: s<sub>1</sub>, s<sub>2</sub> ... s<sub>N</sub>)  \n",
    "A: Finite set of actions (Ex: North, South, East, West)  \n",
    "P<sub>a</sub>(s,s'): Probability that action *a* in state *s* at time *t* will lead to state *s'* at time *t + 1*  \n",
    "R<sub>a</sub>(s,s'): Immediate reward received after moving from state *s* to state *s'* by action *a*\n",
    "\n",
    "An agent acts in an MDP at time *t*, by taking certain action *a* in state *s*, going to state *s'*, and getting a reward *r* from the world. It then repeats the process for certain no. of times, either finite or infinite.\n",
    "\n",
    "We also include a $5^{th}$ part in the description of an MDP called Gamma $\\gamma$.  \n",
    "$\\gamma$: The discount factor between 0 (inclusive) and 1 (exclusive). This determines how much credit you want to give to the future. If you think that the future reward is as important as the current reward you would set this to 0.99999. If you don't care about the future rewards you would set this to 0 and you only care about the current reward. For example, if your discount factor is 0.8 and after 5 steps you get a reward of 4 the present value of that reward is $0.8^4 * 5$ or ~2.\n",
    "\n",
    "An MDP is a collection of states such that each state has a selection of actions associated with them. With each state-action pair comes a reward *r* (can be 0). Define a policy function: $\\pi: s \\rightarrow a$, which tells which action to take at each state.\n",
    "  \n",
    "We now use the famous dynamic programming equation, also known as Bellman Equation, to define optimality in an MDP. The following equation defines what we call the **value function** of state *s* following some fixed policy $\\pi$:  \n",
    "\n",
    "$$V^\\pi(s) = \\sum_{s'} P_{\\pi(s)}(s,s') [R_{\\pi(s)}(s,s') + \\gamma V^\\pi(s')]$$\n",
    "\n",
    "We call $V^\\pi$ as the value of policy $\\pi$.  \n",
    "  \n",
    "Now, to find the **optimal** policy you will need to find the action that gives the highest reward.  \n",
    "\n",
    "$$V^*(s) = max_a \\sum_{s'} P_a(s,s') [R_a(s,s') + \\gamma V^*(s')]$$\n",
    "\n",
    "A real world example would be an inventory control system. Your states would be the amount of items you have in stock. Your actions would be the amount to order. The discrete time would be the days of the month. The reward would be the profit.  \n",
    "\n",
    "A major drawback of MDPs is called the \"Curse of Dimensionality\". This states that the more states/actions you have the more computational difficult it is to solve.   \n"
   ]
  },
  {
   "cell_type": "markdown",
   "metadata": {},
   "source": [
    "## Question 1 (1 point)"
   ]
  },
  {
   "cell_type": "markdown",
   "metadata": {},
   "source": [
    "For the first question of the notebook, we give a quick example of an MDP. We would to see if you can put the definitions above into practice.\n",
    "\n",
    "**Question a**: Given the following deterministic MDP (you select North, you move North), what is the optimal policy (path with the most points)?\n",
    "  \n",
    "*Notes*:  \n",
    "  * The number in the box is the reward.  \n",
    "  * Once you hit the end you are done. (Absorbing state)\n",
    "  * S is the starting point.  \n",
    "  * F is the ending point.  \n",
    "  * Use N for North, E for East, S for South, and W for West. Not all actions are available at each state, for example, you can't choose N and W at starting state, as there exists no valid next states in those directions.  \n",
    "  * Pass the directions as a single string. Ex: ESWN will make a circle.  \n",
    "  \n",
    "\n",
    "\n",
    "| | | |\n",
    "|----------|----------|---------|\n",
    "|S|1|1|\n",
    "|1 |0|1|  \n",
    "|-1|-1|0|  \n",
    "|0 |0|F|"
   ]
  },
  {
   "cell_type": "markdown",
   "metadata": {},
   "source": [
    "### 1.a\n",
    "We have to assume there is a cost function with a really high cost (like 10000 or at least higher than 1) to make the solution non trivial. If the cost is 1 or lower, you can just step back and forth between (1,0) and (2,0) for example to get infinite value (or never lower your value if cost=1). We also assume gamma=1 so that the final value is proportional to the total reward we collect, rather than getting less value for future rewards.\n",
    "\n",
    "One candidate is EESSS, giving 3 reward and 5 units of cost\n",
    "\n",
    "Another candidate is SENESSS, giving 4 reward but 7 units of cost\n",
    "\n",
    "Anothe rcandidate is SEESS, giving 2 reward and 5 cost\n",
    "\n",
    "We can conclude that 5 steps is the shortest possible and that candidate 1 is better than candidate 3. We see that candidate 2 has 1 more reward than candidate 1, but it has 2 more cost units. This means if the fuel cost is larger than 1 (1+epsilon), according to the assumptions, this means the final value of candidate 1 will be 3 * 1 - 5 * (1 + e) = -2 -5 * e\n",
    "And the final value for candidate 2 will be 4 * 1 - 7 * (1 + e) = -3 -7 * e.\n",
    "\n",
    "So the best path is EESSS"
   ]
  },
  {
   "cell_type": "markdown",
   "metadata": {},
   "source": []
  },
  {
   "cell_type": "markdown",
   "metadata": {},
   "source": [
    "Question b,c will attempt to firm up your knowledge of the parts of an MDP. Just remember that for a state denoted by (x,y), state N/E/S/W to that are (x,y-1),(x+1,y),(x,y+1),(x-1,y) respectively. We take (0,0) as the starting state S.\n",
    "\n",
    "**Question b:** What is the probability of going from state (1,0) to state (2,0) using action E ? ( i.e,  $P_E((1,0),(2,0))$ )\n",
    "\n",
    "**Question c:** What is the reward for moving from state (1,0) to state (2,0) ? ( i.e, $R_E((1,0),(2,0))$ )"
   ]
  },
  {
   "cell_type": "markdown",
   "metadata": {},
   "source": [
    "### b\n",
    "the probability of going from (1,0) to (2,0) is 1 if you go east. Since (0,2) is east of (0,1)\n",
    "### c\n",
    "The reward of going from (1,0) to (2,0) is 1 if you go east."
   ]
  },
  {
   "cell_type": "markdown",
   "metadata": {},
   "source": [
    "## Value Iteration"
   ]
  },
  {
   "cell_type": "markdown",
   "metadata": {},
   "source": [
    "The value iteration is one algorithm that can be used to find the optimal policy ($\\pi^*$). Note that for any policy $\\pi^*$ to be optimal, it must satisfy the Bellman equation for optimal value function $V^*$. For any candidate $V^*$, it must be such that plugging it in the RHS (right-hand-side) of Bellman equation should give the same $V^*$ again (by the recursive nature of this equation). This property will form the basis of our algorithm. Essentially, due to certain mathematical results, repeated application of RHS to any intial value function $V^0(s)$ will eventually lead to the value $V$ which statifies the Bellman equation. Hence repeated application of Bellman equation for optimal value function will also lead to optimal value function, we can then extract the optimal actions by simply noting the actions that satisfy the equation.    \n",
    "\n",
    "The value function is based on the Bellman Equation for optimal value, which we recall here:  \n",
    "$$V^*(s) = max_a \\sum_{s'} P_a(s,s') [R_a(s,s') + \\gamma V^*(s')]$$"
   ]
  },
  {
   "cell_type": "markdown",
   "metadata": {},
   "source": [
    "Example: Below is a 3x3 grid. We are going to walk through a few iterations to firm up your understanding. Lets assume this time that success of taking any action is 0.8. Meaning if we take E from a valid state (x,y), we will go (x+1,y) 0.8 percent of time, but remain in same state the remaining time. We will have a discount factor ($\\gamma$) of 0.9. Assume $V^0(s')=0$ for all s'. \n",
    "\n",
    "| | | |  \n",
    "|----------|----------|---------|  \n",
    "|0|0|0|\n",
    "|0|10|0|  \n",
    "|0|0|0|  \n",
    "\n",
    "\n",
    "**Iteration 1**: It is trivial, V(s) becomes the $max_a \\sum_{s'} P_a(s,s') R_a(s,s')$ since $V^0$ was zero for s'.\n",
    "\n",
    "| | | |  \n",
    "|----------|----------|---------|  \n",
    "|0|8|0|\n",
    "|8|2|8|  \n",
    "|0|8|0|  \n",
    "  \n",
    "**Iteration 2**:  \n",
    "  \n",
    "Staring with cell (0,0): We find the expected value of each move:  \n",
    "Action N: 0  \n",
    "Action E: 0.8( 0 + 0.9 \\* 8) + 0.2(0 + 0.9 \\* 0) = 5.76  \n",
    "Action S: 0.8( 0 + 0.9 \\* 8) + 0.2(0 + 0.9 \\* 0) = 5.76  \n",
    "Action W: 0\n",
    "\n",
    "Hence any action between E and S would have been best at this stage.\n",
    "\n",
    "Similarly for cell (1,0):\n",
    "\n",
    "Action S: 0.8( 10 + 0.9 \\* 2) + 0.2(0 + 0.9 \\* 8) = 10.88 (Action S is the maximizing action)  \n",
    "\n",
    "Similar calculations for remaining cells give us:\n",
    "\n",
    "| | | |  \n",
    "|----------|----------|---------|  \n",
    "|5.76|10.88|5.76|\n",
    "|10.88|8.12|10.88|  \n",
    "|5.76|10.88|5.76|  \n"
   ]
  },
  {
   "cell_type": "markdown",
   "metadata": {},
   "source": [
    "## Question 2 (2 points)\n",
    "Please code the value iteration algorithm just described here, and show the optimal value function of the above 3x3 grid problem at convergence."
   ]
  },
  {
   "cell_type": "code",
   "execution_count": 1,
   "metadata": {},
   "outputs": [],
   "source": [
    "R = [[0,0,0],[0,10,0],[0,0,0]] # reward\n",
    "directions = [(1,0),(0,-1),(-1,0),(0,1)] # east, south, west, north\n",
    "firstV = [[0,0,0],[0,0,0],[0,0,0]] # future values, 0 from the start\n",
    "\n",
    "# calculate Vp(s), oldV is the Vp matrix from previous iteration\n",
    "def Vp(s, oldV):\n",
    "    max = -float(\"inf\") # current max value from any of the directions\n",
    "    for direction in directions:\n",
    "        sum = -float(\"inf\") # sum of values of stepping and not stepping, with regard to probabilities\n",
    "        # step\n",
    "        x = s[0]+direction[0]\n",
    "        y = s[1]+direction[1]\n",
    "        if (x < 3 and x > -1 and y < 3 and y > -1) : # if not step outside board\n",
    "            #   Pa(s,s')*(R(s') + y*Vp(s'))      + Pa(s,s)*(R(s)      + y*Vp(s))\n",
    "            sum = 0.8*(R[x][y] + 0.9*oldV[x][y]) + 0.2*(R[s[0]][s[1]] + 0.9*oldV[s[0]][s[1]])\n",
    "        if (max <= sum) : # if the step succeded and if the sum is bigger than current max value, update it.\n",
    "            max= sum\n",
    "    return max\n",
    "\n",
    "# perform Vp n times, oldV is the first or previous Vp matrix\n",
    "def iterateV(n, oldV):\n",
    "    if (n == 0): # iteration done\n",
    "        return oldV\n",
    "    \n",
    "    newV = [[0,0,0],[0,0,0],[0,0,0]] #  Vp matrix to be updated\n",
    "    for x in range (0,3): # for each state\n",
    "        for y in range (0,3):\n",
    "            newV[x][y] = Vp((x,y),oldV) # update Vp matrix\n",
    "    return iterateV(n-1, newV) # recursive call"
   ]
  },
  {
   "cell_type": "code",
   "execution_count": 2,
   "metadata": {},
   "outputs": [
    {
     "name": "stdout",
     "output_type": "stream",
     "text": [
      "difference in Vp after 1500 comappred to 1000 iterations \n",
      "\n",
      "[[0. 0. 0.]\n",
      " [0. 0. 0.]\n",
      " [0. 0. 0.]]\n",
      "________________________\n",
      "Vp convergence\n"
     ]
    },
    {
     "data": {
      "text/plain": [
       "[[45.612923661704166, 51.94805194805196, 45.612923661704166],\n",
       " [51.94805194805196, 48.05194805194807, 51.94805194805196],\n",
       " [45.612923661704166, 51.94805194805196, 45.612923661704166]]"
      ]
     },
     "execution_count": 2,
     "metadata": {},
     "output_type": "execute_result"
    }
   ],
   "source": [
    "import numpy as np\n",
    "\n",
    "convergence = iterateV(1500,firstV) # result after 1500 iterations\n",
    "half = iterateV(1000,firstV) # result after 1000 iterations \n",
    "print(\"difference in Vp after 1500 comappred to 1000 iterations \\n\")\n",
    "print(np.add(convergence, np.negative(half))) # difference between the two results (it is 0 for all cells, meaning it converges)\n",
    "print(\"________________________\")\n",
    "print(\"Vp convergence\")\n",
    "convergence # print result"
   ]
  },
  {
   "cell_type": "code",
   "execution_count": null,
   "metadata": {},
   "outputs": [],
   "source": []
  },
  {
   "cell_type": "markdown",
   "metadata": {},
   "source": [
    "## Reinforcement Learning (RL)\n",
    "Until now, we understood that knowing the MDP, specifically $P_a(s,s')$ and $R_a(s,s')$ allows us to efficiently find the optimal policy using value iteration algorithm, but RL or decision making under uncertainity arises from the question of making optimal decisions without knowing the true world model (MDP in this case).\n",
    "\n",
    "So far we have defined the value of a state $V^\\pi$, let us define the value of an action, $Q^\\pi$:\n",
    "\n",
    "$$Q^\\pi(s,a) = \\sum_{s'} P_a(s,s') [R_a(s,s') + \\gamma V^\\pi(s')]$$\n",
    "\n",
    "i.e, the value of taking action *a* from state *s* and then following $\\pi$ onwards. Similarly, the optimal Q-value equation is:\n",
    "\n",
    "$$Q^*(s,a) = \\sum_{s'} P_a(s,s') [R_a(s,s') + \\gamma V^*(s')]$$\n",
    "\n",
    "## Q-learning\n",
    "\n",
    "Q-learning algorithm can be used by an agent unaware of its surroundings (unknown MDP). All it can do is take an action *a* at time *t* from state *s* and observe the reward *r* and next state *s'*, and repeat this process again. So how it can learn to act optimally under such uninformative conditions ? Answer is using Q-learning. Without going into its justification, we simply state the main-update rule of this algorithm below:\n",
    "\n",
    "![alt text](https://chalmersuniversity.box.com/shared/static/5anbos4s9luoayb32jk6w3wy3w4jk3g3.png)\n",
    "\n",
    "Where we simply maintain Q(s,a) value for each state-action pair in a table. It is proven to converge to the optimal policy of the underlying unknown MDP for certain values of learning rate $\\alpha$. For our case, we set a constant $\\alpha=0.1$.\n",
    "\n",
    "## OpenAI Gym\n",
    "\n",
    "We shall use already available simulators for different environments (world) using the popular OpenAI Gym library. It just implements [differnt types of simulators](https://gym.openai.com/) including ATARI games. Although here we will only focus on simple ones, such as [Chain enviroment](https://gym.openai.com/envs/NChain-v0/).\n",
    "![alt text](https://chalmersuniversity.box.com/shared/static/6tthbzhpofq9gzlowhr3w8if0xvyxb2b.jpg)\n",
    "\n",
    "## Question 3 (0.5 points)\n",
    "Basically, there are 5 states, and two actions 'a' and 'b'. Each transition (s,a,s') is noted with its corresponding reward. You are to first familiarize with the framework using its [documentation](http://gym.openai.com/docs/), and then implement the Q-learning algorithm for the Chain enviroment (called 'NChain-v0') using default parameters. Finally print the $Q^*$ table at convergence. Take $\\gamma=0.95$. You can refer to the Q-learning Jupyter notebook shown in class, uploaded on Canvas.\n",
    "\n",
    "## Question 4 (1 point)\n",
    "\n",
    "a. Verify that the optimal $Q^*$ value obtained using Q-learning is same as the optimal value function $V^*$ for the corresponding MDP's optimal action. You would have to first define the MDP corresponding to Chain enviroment.\n",
    "\n",
    "b. What is the importance of exploration in RL ? Explain with an example.\n"
   ]
  },
  {
   "cell_type": "markdown",
   "metadata": {},
   "source": [
    "### Question 3 :"
   ]
  },
  {
   "cell_type": "code",
   "execution_count": 3,
   "metadata": {},
   "outputs": [],
   "source": [
    "# imports\n",
    "import gym\n",
    "import random\n",
    "env = gym.envs.make('NChain-v0',slip=0.0) # simulator\n",
    "\n",
    "num_episodes = 1000 #15000 #20000 #60000\n",
    "gamma = 0.95 #0.99\n",
    "learning_rate = 0.1 #0.95 #0.85\n",
    "epsilon = 0.5#1 #0.15 #0.1\n",
    "\n",
    "# initialize the Q table\n",
    "Q = np.zeros([5, 2])"
   ]
  },
  {
   "cell_type": "code",
   "execution_count": 4,
   "metadata": {},
   "outputs": [
    {
     "name": "stdout",
     "output_type": "stream",
     "text": [
      "Q value for each state and action. The rows correspong to the states, the columns are action a and b\n"
     ]
    },
    {
     "data": {
      "text/plain": [
       "array([[162.90125  , 156.7561875],\n",
       "       [171.475    , 156.7561875],\n",
       "       [180.5      , 156.7561875],\n",
       "       [190.       , 156.7561875],\n",
       "       [200.       , 156.7561875]])"
      ]
     },
     "execution_count": 4,
     "metadata": {},
     "output_type": "execute_result"
    }
   ],
   "source": [
    "# loop for calculating Q value for each state\n",
    "for _ in range(num_episodes): \n",
    "\tstate = env.reset()\n",
    "\tdone = False\n",
    "\twhile done == False: # when simulation is not done:\n",
    "        # First we select an action:\n",
    "\t\tif random.uniform(0, 1) < epsilon: # Flip an unskewed coin to determine if will explore or exploit\n",
    "\t\t\taction = env.action_space.sample() # Explore action space (choose 0 or 1 (walking forward or back to start))\n",
    "\t\telse:\n",
    "\t\t\taction = np.argmax(Q[state,:]) # Exploit learned values (choose best action for current state)\n",
    "        # Then we perform the action and receive the feedback from the environment\n",
    "\t\tnew_state, reward, done, info = env.step(action)\n",
    "        # Finally we learn from the experience by updating the Q-value of the selected action\n",
    "\t\tupdate = reward + (gamma*np.max(Q[new_state,:])) - Q[state, action]\n",
    "\t\tQ[state,action] += learning_rate*update \n",
    "\t\tstate = new_state\n",
    "print(\"Q value for each state and action. The rows correspong to the states, the columns are action a and b\")\n",
    "Q"
   ]
  },
  {
   "cell_type": "markdown",
   "metadata": {},
   "source": [
    "### Comments\n",
    "We see that it is mre beneficial to start with doing action a in all states since it will get you to state 5 faster, so you can loop there and get 10 reward over and over. One could think you would get infinite reward (instead of 162, 171, 180, 190, 200) by doing that but that's not the case since you calculate the value for each state by discounting the reward you get in the future by teh factor gamma=0.95. We see that we get more value the closer to state 5 we start, this makes sense since we will be able to get to the reward faster. All states that start with action b have the same value. This makes sense since they will all go to state 1 in the next step, and then they all have to go to state 5, the same distance."
   ]
  },
  {
   "cell_type": "markdown",
   "metadata": {},
   "source": [
    "### Question 4 :"
   ]
  },
  {
   "cell_type": "markdown",
   "metadata": {},
   "source": [
    "### Comments\n",
    "This code is almost identical to the code in wuestion 2. We have just changed the format for the reward matrix and calculate where you go given a direction a bit differently. The reward matrix has one row and column for each state, element Rij is the reward you get when you go from state i to state j. The value matrixes have the same format as before because we are only interested in the highest value we can get in each state without displaying the action."
   ]
  },
  {
   "cell_type": "code",
   "execution_count": 5,
   "metadata": {},
   "outputs": [],
   "source": [
    "R = [[2,0,0,0,0],\n",
    "     [2,0,0,0,0],\n",
    "     [2,0,0,0,0],\n",
    "     [2,0,0,0,0],\n",
    "     [2,0,0,0,10]] # reward\n",
    "directions = ['a','b'] # forward / back\n",
    "firstV = [0,0,0,0,0] # future valus, 0 from the start\n",
    "\n",
    "# calculate Vp(s), oldV is the Vp matrix from previous iteration\n",
    "def Vp(s, oldV):\n",
    "    max = -float(\"inf\") # current max value from any of the directions\n",
    "    for direction in directions:\n",
    "        sum = -float(\"inf\") # sum of stepping and not stepping\n",
    "        sp=0; # placeholder\n",
    "        \n",
    "        if (direction=='a'): # go forward\n",
    "            sp=s+1 \n",
    "            if (sp==5): # loop around on last position\n",
    "                sp=4\n",
    "        elif (direction=='b'): # go to start\n",
    "            sp=0\n",
    "        \n",
    "        # Pa(s,s')*(R(s') + y*Vp(s'))    + Pa(s,s)*(R(s) + y*Vp(s))\n",
    "        sum = 1*(R[s][sp] + gamma*oldV[sp]) + 0*(R[s][s] + gamma*oldV[s])\n",
    "        if (max <= sum) : # update max value if this action gave the best value\n",
    "            max= sum\n",
    "    return max\n",
    "\n",
    "# perform Vp n times, oldV is the first or previous Vp matrix\n",
    "def iterateV(n, oldV):\n",
    "    if (n == 0): # iteration done\n",
    "        return oldV\n",
    "    \n",
    "    newV =[0,0,0,0,0] #  Vp matrix to be updated\n",
    "    for s in range (0,5):\n",
    "        newV[s] = Vp(s,oldV) # update Vp matrix\n",
    "    return iterateV(n-1, newV) # recursive call"
   ]
  },
  {
   "cell_type": "code",
   "execution_count": 6,
   "metadata": {},
   "outputs": [
    {
     "name": "stdout",
     "output_type": "stream",
     "text": [
      "difference in Vp after 2000 comappred to 1000 iterations \n",
      "\n",
      "[0. 0. 0. 0. 0.]\n",
      "____________________________\n",
      "converge in Vp\n"
     ]
    },
    {
     "data": {
      "text/plain": [
       "[162.9012499999996,\n",
       " 171.4749999999996,\n",
       " 180.49999999999957,\n",
       " 189.99999999999955,\n",
       " 199.99999999999955]"
      ]
     },
     "execution_count": 6,
     "metadata": {},
     "output_type": "execute_result"
    }
   ],
   "source": [
    "convergence = iterateV(2000,firstV) # result after 2000 iterations\n",
    "half = iterateV(1000,firstV) # result after 500 iterations \n",
    "print(\"difference in Vp after 2000 comappred to 1000 iterations \\n\")\n",
    "print(np.add(convergence, np.negative(half))) # difference between the two results (it is 0 for all cells, meaning it converges)\n",
    "print(\"____________________________\")\n",
    "print(\"converge in Vp\")\n",
    "convergence # print result"
   ]
  },
  {
   "cell_type": "markdown",
   "metadata": {},
   "source": [
    "### Comments\n",
    "We see that we get (almost) the same converge for the bellman algorithm using an MDP as for the Q-learning algorithm. An advantage of the Q-learning algorithm is that you don't need to input or be aware of the underlying reward, just the states and actions possible. This might mean that the bellman algorithm is a bit more efficient since it doesn't need to explore different solutions in the same way, and can just calculate the optimal solutions from the start. Less efficiency can be a fair trade off though if creating a domain model of the different rewards is complicated."
   ]
  },
  {
   "cell_type": "markdown",
   "metadata": {},
   "source": [
    "### 4.b : importance of exploration in RL + example.\n",
    "If you never explore you won't have a chance to find better solutions than what you currectly know of. You can't explore all the time or too much though because then you won't exploit your current best known solutions.\n",
    "\n",
    "One example is when you're at a casino and there's 4 slot machines. Maybe you only play on one all the time because you think it's decent, but you should explore the other ones to see if they give more profit. Using different machines all the time won't give a you time to exploit one and make profit though."
   ]
  },
  {
   "cell_type": "markdown",
   "metadata": {},
   "source": [
    "## Question 4 (0.5 point)\n",
    "\n",
    "Give a summary of how a decision tree works ?"
   ]
  },
  {
   "cell_type": "markdown",
   "metadata": {},
   "source": [
    "Decision trees works by classifying a set by repeatedly dividing it using specific binary (boolean) classifiers or decisions. For example if you want to classify animals you can divide them using the classifier \"is bi-ped\" and then \"is herbivore\" and so forth until you reach the labeled leaf node, representing the outcome (in this example it would be the specific animal).\n",
    "\n",
    "You can also use numerical decisions such as \"weight > 100 kg\".\n",
    "\n",
    "The convention is that yes decisions are to the left and no as to the right.\n",
    "\n",
    "The set you want to classify can either be targeted to one single boolean target such as \"has or has not heart disease or a multivariate target such as different animal species.\n",
    "\n",
    "You can create a decision tree in multiple ways\n",
    "\n",
    "One way, if you want to determine the class of every \"person\" in the data set with a 100% accuracy you can make a tree where you ask every question such that you account for all combinations of decisions. This is done by asking question Q1 at the top level, then question Q2 for each answer to Q1 (so you will ask Q2 2 times) and then you ask Q3 4 time and so forth. The downside of this is that the tree is really big ($2^n$) and then can become expensive to use. Big trees like this are also bad for generalizing and predicting target classes for new data points since a big tree like this is comparable to overfitting a k-means classification. \n",
    "\n",
    "The tree will also become hard to maintain and unintuitive because we well get a lot of leaves at the bottom, each corresponding to only a few data points, even though we might want to classify several leaves as the same class. For example if our targets are \"has heart disease\" and \"has not heart disease\", then we don't need thousands of leaves, we just need 2 really (Note that you will most likely get more than 2 leaves even for better solutions but you will generally get way more with the approach described above).\n",
    "\n",
    "Another way to create a decision tree is based on the gini impurity. A question in a decision tree split the data into two child sets, one set which all had the answer yes to the question and the other set containing data with No as the answer. If one of the sets were pure this would mean it only contains data with the same results.  No further question would be needed in this case and this corresponds to a gini score of 0. A decision tree that test for a binary result, having a set with a gini score of 0.5 would mean the probability of a yes or no is 50% whitin the set, meaning the question is as bad as it can be.\n",
    "\n",
    "The Gini impurity of a split (question) would be the weighted average of the Gini impurity for the child sets. The root question of the tree would thus be the question with the lowest Gini impurity. The next question will be the one that lowers the gini value the most for the remaining set. This step keeps repeating until there is no more question or until the remaining question don’t lead to a lower gini impurity.\n",
    "\n",
    "The leafs can also be pure or impure and a general weakness of decision trees is that they are inaccurate, i.e. they are not good at classifying new samples. Random forest is a technique that build upon decision trees that improves the accuracy. Forests classify a sample by using the average classification of many decision trees. Forests are considered highly accurate, it also avoids overfitting and biases from singular trees. Forests can also handle missing values in singular trees by using median values from the other trees.\n",
    "But their simplicity have still made them popular for medical diagnosis and in marketing and sales. \n",
    "\n"
   ]
  },
  {
   "cell_type": "markdown",
   "metadata": {},
   "source": [
    "## Note\n",
    "\n",
    "* Until now, we have described algorithms for when no. of states and actions are finite. In coming weeks, you will be taught how to extend these methods to continous state enviroments like ATARI games.\n",
    "\n",
    "# References\n",
    "Primer/text based on the following references:\n",
    "* http://www.cse.chalmers.se/~chrdimi/downloads/book.pdf\n",
    "* https://github.com/olethrosdc/ml-society-science/blob/master/notes.pdf"
   ]
  }
 ],
 "metadata": {
  "kernelspec": {
   "display_name": "Python 3",
   "language": "python",
   "name": "python3"
  },
  "language_info": {
   "codemirror_mode": {
    "name": "ipython",
    "version": 3
   },
   "file_extension": ".py",
   "mimetype": "text/x-python",
   "name": "python",
   "nbconvert_exporter": "python",
   "pygments_lexer": "ipython3",
   "version": "3.7.4"
  }
 },
 "nbformat": 4,
 "nbformat_minor": 2
}
