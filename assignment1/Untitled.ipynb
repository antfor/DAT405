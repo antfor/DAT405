{
 "cells": [
  {
   "cell_type": "markdown",
   "metadata": {},
   "source": [
    "### Assignment 1: Introduction to Data Science and Python"
   ]
  },
  {
   "cell_type": "code",
   "execution_count": 1,
   "metadata": {},
   "outputs": [],
   "source": [
    "import matplotlib.pyplot as plt\n",
    "import pandas as pd\n",
    "import numpy as np"
   ]
  },
  {
   "cell_type": "code",
   "execution_count": 2,
   "metadata": {},
   "outputs": [
    {
     "data": {
      "text/html": [
       "<div>\n",
       "<style scoped>\n",
       "    .dataframe tbody tr th:only-of-type {\n",
       "        vertical-align: middle;\n",
       "    }\n",
       "\n",
       "    .dataframe tbody tr th {\n",
       "        vertical-align: top;\n",
       "    }\n",
       "\n",
       "    .dataframe thead th {\n",
       "        text-align: right;\n",
       "    }\n",
       "</style>\n",
       "<table border=\"1\" class=\"dataframe\">\n",
       "  <thead>\n",
       "    <tr style=\"text-align: right;\">\n",
       "      <th></th>\n",
       "      <th>Entity</th>\n",
       "      <th>Code</th>\n",
       "      <th>Year</th>\n",
       "      <th>Life expectancy at birth (years)</th>\n",
       "      <th>GDP per capita ($)</th>\n",
       "      <th>Population by country</th>\n",
       "    </tr>\n",
       "  </thead>\n",
       "  <tbody>\n",
       "    <tr>\n",
       "      <th>0</th>\n",
       "      <td>Afghanistan</td>\n",
       "      <td>AFG</td>\n",
       "      <td>1800</td>\n",
       "      <td>NaN</td>\n",
       "      <td>NaN</td>\n",
       "      <td>3280000.0</td>\n",
       "    </tr>\n",
       "    <tr>\n",
       "      <th>1</th>\n",
       "      <td>Afghanistan</td>\n",
       "      <td>AFG</td>\n",
       "      <td>1801</td>\n",
       "      <td>NaN</td>\n",
       "      <td>NaN</td>\n",
       "      <td>3280000.0</td>\n",
       "    </tr>\n",
       "    <tr>\n",
       "      <th>2</th>\n",
       "      <td>Afghanistan</td>\n",
       "      <td>AFG</td>\n",
       "      <td>1802</td>\n",
       "      <td>NaN</td>\n",
       "      <td>NaN</td>\n",
       "      <td>3280000.0</td>\n",
       "    </tr>\n",
       "    <tr>\n",
       "      <th>3</th>\n",
       "      <td>Afghanistan</td>\n",
       "      <td>AFG</td>\n",
       "      <td>1803</td>\n",
       "      <td>NaN</td>\n",
       "      <td>NaN</td>\n",
       "      <td>3280000.0</td>\n",
       "    </tr>\n",
       "    <tr>\n",
       "      <th>4</th>\n",
       "      <td>Afghanistan</td>\n",
       "      <td>AFG</td>\n",
       "      <td>1804</td>\n",
       "      <td>NaN</td>\n",
       "      <td>NaN</td>\n",
       "      <td>3280000.0</td>\n",
       "    </tr>\n",
       "    <tr>\n",
       "      <th>...</th>\n",
       "      <td>...</td>\n",
       "      <td>...</td>\n",
       "      <td>...</td>\n",
       "      <td>...</td>\n",
       "      <td>...</td>\n",
       "      <td>...</td>\n",
       "    </tr>\n",
       "    <tr>\n",
       "      <th>50043</th>\n",
       "      <td>Zimbabwe</td>\n",
       "      <td>ZWE</td>\n",
       "      <td>2015</td>\n",
       "      <td>60.397999</td>\n",
       "      <td>1759.0</td>\n",
       "      <td>15777451.0</td>\n",
       "    </tr>\n",
       "    <tr>\n",
       "      <th>50044</th>\n",
       "      <td>Zimbabwe</td>\n",
       "      <td>ZWE</td>\n",
       "      <td>2016</td>\n",
       "      <td>NaN</td>\n",
       "      <td>1729.0</td>\n",
       "      <td>16150362.0</td>\n",
       "    </tr>\n",
       "    <tr>\n",
       "      <th>50045</th>\n",
       "      <td>Zimbabwe</td>\n",
       "      <td>ZWE</td>\n",
       "      <td>2017</td>\n",
       "      <td>NaN</td>\n",
       "      <td>NaN</td>\n",
       "      <td>16529904.0</td>\n",
       "    </tr>\n",
       "    <tr>\n",
       "      <th>50046</th>\n",
       "      <td>Zimbabwe</td>\n",
       "      <td>ZWE</td>\n",
       "      <td>2018</td>\n",
       "      <td>NaN</td>\n",
       "      <td>NaN</td>\n",
       "      <td>16913261.0</td>\n",
       "    </tr>\n",
       "    <tr>\n",
       "      <th>50047</th>\n",
       "      <td>Zimbabwe</td>\n",
       "      <td>ZWE</td>\n",
       "      <td>2019</td>\n",
       "      <td>NaN</td>\n",
       "      <td>NaN</td>\n",
       "      <td>17297495.0</td>\n",
       "    </tr>\n",
       "  </tbody>\n",
       "</table>\n",
       "<p>50048 rows × 6 columns</p>\n",
       "</div>"
      ],
      "text/plain": [
       "            Entity Code  Year  Life expectancy at birth (years)  \\\n",
       "0      Afghanistan  AFG  1800                               NaN   \n",
       "1      Afghanistan  AFG  1801                               NaN   \n",
       "2      Afghanistan  AFG  1802                               NaN   \n",
       "3      Afghanistan  AFG  1803                               NaN   \n",
       "4      Afghanistan  AFG  1804                               NaN   \n",
       "...            ...  ...   ...                               ...   \n",
       "50043     Zimbabwe  ZWE  2015                         60.397999   \n",
       "50044     Zimbabwe  ZWE  2016                               NaN   \n",
       "50045     Zimbabwe  ZWE  2017                               NaN   \n",
       "50046     Zimbabwe  ZWE  2018                               NaN   \n",
       "50047     Zimbabwe  ZWE  2019                               NaN   \n",
       "\n",
       "       GDP per capita ($)  Population by country  \n",
       "0                     NaN              3280000.0  \n",
       "1                     NaN              3280000.0  \n",
       "2                     NaN              3280000.0  \n",
       "3                     NaN              3280000.0  \n",
       "4                     NaN              3280000.0  \n",
       "...                   ...                    ...  \n",
       "50043              1759.0             15777451.0  \n",
       "50044              1729.0             16150362.0  \n",
       "50045                 NaN             16529904.0  \n",
       "50046                 NaN             16913261.0  \n",
       "50047                 NaN             17297495.0  \n",
       "\n",
       "[50048 rows x 6 columns]"
      ]
     },
     "execution_count": 2,
     "metadata": {},
     "output_type": "execute_result"
    }
   ],
   "source": [
    "df = pd.read_csv(\"../assignment1/life-expectancy-vs-gdp-per-capita.csv\")\n",
    "df"
   ]
  },
  {
   "cell_type": "code",
   "execution_count": 3,
   "metadata": {},
   "outputs": [
    {
     "data": {
      "text/html": [
       "<div>\n",
       "<style scoped>\n",
       "    .dataframe tbody tr th:only-of-type {\n",
       "        vertical-align: middle;\n",
       "    }\n",
       "\n",
       "    .dataframe tbody tr th {\n",
       "        vertical-align: top;\n",
       "    }\n",
       "\n",
       "    .dataframe thead th {\n",
       "        text-align: right;\n",
       "    }\n",
       "</style>\n",
       "<table border=\"1\" class=\"dataframe\">\n",
       "  <thead>\n",
       "    <tr style=\"text-align: right;\">\n",
       "      <th></th>\n",
       "      <th>Entity</th>\n",
       "      <th>Code</th>\n",
       "      <th>Year</th>\n",
       "      <th>Life expectancy at birth (years)</th>\n",
       "      <th>GDP per capita ($)</th>\n",
       "      <th>Population by country</th>\n",
       "    </tr>\n",
       "  </thead>\n",
       "  <tbody>\n",
       "    <tr>\n",
       "      <th>215</th>\n",
       "      <td>Afghanistan</td>\n",
       "      <td>AFG</td>\n",
       "      <td>2015</td>\n",
       "      <td>63.287998</td>\n",
       "      <td>1928.0</td>\n",
       "      <td>33736494.0</td>\n",
       "    </tr>\n",
       "    <tr>\n",
       "      <th>285</th>\n",
       "      <td>Africa</td>\n",
       "      <td>NaN</td>\n",
       "      <td>2015</td>\n",
       "      <td>61.457001</td>\n",
       "      <td>4684.0</td>\n",
       "      <td>NaN</td>\n",
       "    </tr>\n",
       "    <tr>\n",
       "      <th>502</th>\n",
       "      <td>Albania</td>\n",
       "      <td>ALB</td>\n",
       "      <td>2015</td>\n",
       "      <td>78.174004</td>\n",
       "      <td>10947.0</td>\n",
       "      <td>2923352.0</td>\n",
       "    </tr>\n",
       "    <tr>\n",
       "      <th>722</th>\n",
       "      <td>Algeria</td>\n",
       "      <td>DZA</td>\n",
       "      <td>2015</td>\n",
       "      <td>75.860001</td>\n",
       "      <td>13024.0</td>\n",
       "      <td>39871528.0</td>\n",
       "    </tr>\n",
       "    <tr>\n",
       "      <th>942</th>\n",
       "      <td>Andorra</td>\n",
       "      <td>AND</td>\n",
       "      <td>2015</td>\n",
       "      <td>NaN</td>\n",
       "      <td>NaN</td>\n",
       "      <td>78014.0</td>\n",
       "    </tr>\n",
       "    <tr>\n",
       "      <th>...</th>\n",
       "      <td>...</td>\n",
       "      <td>...</td>\n",
       "      <td>...</td>\n",
       "      <td>...</td>\n",
       "      <td>...</td>\n",
       "      <td>...</td>\n",
       "    </tr>\n",
       "    <tr>\n",
       "      <th>49316</th>\n",
       "      <td>Western Sahara</td>\n",
       "      <td>ESH</td>\n",
       "      <td>2015</td>\n",
       "      <td>69.212997</td>\n",
       "      <td>NaN</td>\n",
       "      <td>NaN</td>\n",
       "    </tr>\n",
       "    <tr>\n",
       "      <th>49386</th>\n",
       "      <td>World</td>\n",
       "      <td>OWID_WRL</td>\n",
       "      <td>2015</td>\n",
       "      <td>71.429001</td>\n",
       "      <td>14500.0</td>\n",
       "      <td>NaN</td>\n",
       "    </tr>\n",
       "    <tr>\n",
       "      <th>49603</th>\n",
       "      <td>Yemen</td>\n",
       "      <td>YEM</td>\n",
       "      <td>2015</td>\n",
       "      <td>64.742996</td>\n",
       "      <td>2496.0</td>\n",
       "      <td>26916207.0</td>\n",
       "    </tr>\n",
       "    <tr>\n",
       "      <th>49823</th>\n",
       "      <td>Zambia</td>\n",
       "      <td>ZMB</td>\n",
       "      <td>2015</td>\n",
       "      <td>61.396999</td>\n",
       "      <td>3537.0</td>\n",
       "      <td>16100587.0</td>\n",
       "    </tr>\n",
       "    <tr>\n",
       "      <th>50043</th>\n",
       "      <td>Zimbabwe</td>\n",
       "      <td>ZWE</td>\n",
       "      <td>2015</td>\n",
       "      <td>60.397999</td>\n",
       "      <td>1759.0</td>\n",
       "      <td>15777451.0</td>\n",
       "    </tr>\n",
       "  </tbody>\n",
       "</table>\n",
       "<p>260 rows × 6 columns</p>\n",
       "</div>"
      ],
      "text/plain": [
       "               Entity      Code  Year  Life expectancy at birth (years)  \\\n",
       "215       Afghanistan       AFG  2015                         63.287998   \n",
       "285            Africa       NaN  2015                         61.457001   \n",
       "502           Albania       ALB  2015                         78.174004   \n",
       "722           Algeria       DZA  2015                         75.860001   \n",
       "942           Andorra       AND  2015                               NaN   \n",
       "...               ...       ...   ...                               ...   \n",
       "49316  Western Sahara       ESH  2015                         69.212997   \n",
       "49386           World  OWID_WRL  2015                         71.429001   \n",
       "49603           Yemen       YEM  2015                         64.742996   \n",
       "49823          Zambia       ZMB  2015                         61.396999   \n",
       "50043        Zimbabwe       ZWE  2015                         60.397999   \n",
       "\n",
       "       GDP per capita ($)  Population by country  \n",
       "215                1928.0             33736494.0  \n",
       "285                4684.0                    NaN  \n",
       "502               10947.0              2923352.0  \n",
       "722               13024.0             39871528.0  \n",
       "942                   NaN                78014.0  \n",
       "...                   ...                    ...  \n",
       "49316                 NaN                    NaN  \n",
       "49386             14500.0                    NaN  \n",
       "49603              2496.0             26916207.0  \n",
       "49823              3537.0             16100587.0  \n",
       "50043              1759.0             15777451.0  \n",
       "\n",
       "[260 rows x 6 columns]"
      ]
     },
     "execution_count": 3,
     "metadata": {},
     "output_type": "execute_result"
    }
   ],
   "source": [
    "df = df.loc[df['Year'] == 2015]\n",
    "df"
   ]
  },
  {
   "cell_type": "code",
   "execution_count": 4,
   "metadata": {},
   "outputs": [
    {
     "data": {
      "text/html": [
       "<div>\n",
       "<style scoped>\n",
       "    .dataframe tbody tr th:only-of-type {\n",
       "        vertical-align: middle;\n",
       "    }\n",
       "\n",
       "    .dataframe tbody tr th {\n",
       "        vertical-align: top;\n",
       "    }\n",
       "\n",
       "    .dataframe thead th {\n",
       "        text-align: right;\n",
       "    }\n",
       "</style>\n",
       "<table border=\"1\" class=\"dataframe\">\n",
       "  <thead>\n",
       "    <tr style=\"text-align: right;\">\n",
       "      <th></th>\n",
       "      <th>Entity</th>\n",
       "      <th>Code</th>\n",
       "      <th>Year</th>\n",
       "      <th>Life expectancy at birth (years)</th>\n",
       "      <th>GDP per capita ($)</th>\n",
       "      <th>Population by country</th>\n",
       "    </tr>\n",
       "  </thead>\n",
       "  <tbody>\n",
       "    <tr>\n",
       "      <th>215</th>\n",
       "      <td>Afghanistan</td>\n",
       "      <td>AFG</td>\n",
       "      <td>2015</td>\n",
       "      <td>63.287998</td>\n",
       "      <td>1928.0</td>\n",
       "      <td>33736494.0</td>\n",
       "    </tr>\n",
       "    <tr>\n",
       "      <th>285</th>\n",
       "      <td>Africa</td>\n",
       "      <td>NaN</td>\n",
       "      <td>2015</td>\n",
       "      <td>61.457001</td>\n",
       "      <td>4684.0</td>\n",
       "      <td>NaN</td>\n",
       "    </tr>\n",
       "    <tr>\n",
       "      <th>502</th>\n",
       "      <td>Albania</td>\n",
       "      <td>ALB</td>\n",
       "      <td>2015</td>\n",
       "      <td>78.174004</td>\n",
       "      <td>10947.0</td>\n",
       "      <td>2923352.0</td>\n",
       "    </tr>\n",
       "    <tr>\n",
       "      <th>722</th>\n",
       "      <td>Algeria</td>\n",
       "      <td>DZA</td>\n",
       "      <td>2015</td>\n",
       "      <td>75.860001</td>\n",
       "      <td>13024.0</td>\n",
       "      <td>39871528.0</td>\n",
       "    </tr>\n",
       "    <tr>\n",
       "      <th>1162</th>\n",
       "      <td>Angola</td>\n",
       "      <td>AGO</td>\n",
       "      <td>2015</td>\n",
       "      <td>61.241001</td>\n",
       "      <td>8631.0</td>\n",
       "      <td>27859305.0</td>\n",
       "    </tr>\n",
       "    <tr>\n",
       "      <th>...</th>\n",
       "      <td>...</td>\n",
       "      <td>...</td>\n",
       "      <td>...</td>\n",
       "      <td>...</td>\n",
       "      <td>...</td>\n",
       "      <td>...</td>\n",
       "    </tr>\n",
       "    <tr>\n",
       "      <th>49102</th>\n",
       "      <td>Western Europe</td>\n",
       "      <td>NaN</td>\n",
       "      <td>2015</td>\n",
       "      <td>81.507004</td>\n",
       "      <td>40175.0</td>\n",
       "      <td>NaN</td>\n",
       "    </tr>\n",
       "    <tr>\n",
       "      <th>49386</th>\n",
       "      <td>World</td>\n",
       "      <td>OWID_WRL</td>\n",
       "      <td>2015</td>\n",
       "      <td>71.429001</td>\n",
       "      <td>14500.0</td>\n",
       "      <td>NaN</td>\n",
       "    </tr>\n",
       "    <tr>\n",
       "      <th>49603</th>\n",
       "      <td>Yemen</td>\n",
       "      <td>YEM</td>\n",
       "      <td>2015</td>\n",
       "      <td>64.742996</td>\n",
       "      <td>2496.0</td>\n",
       "      <td>26916207.0</td>\n",
       "    </tr>\n",
       "    <tr>\n",
       "      <th>49823</th>\n",
       "      <td>Zambia</td>\n",
       "      <td>ZMB</td>\n",
       "      <td>2015</td>\n",
       "      <td>61.396999</td>\n",
       "      <td>3537.0</td>\n",
       "      <td>16100587.0</td>\n",
       "    </tr>\n",
       "    <tr>\n",
       "      <th>50043</th>\n",
       "      <td>Zimbabwe</td>\n",
       "      <td>ZWE</td>\n",
       "      <td>2015</td>\n",
       "      <td>60.397999</td>\n",
       "      <td>1759.0</td>\n",
       "      <td>15777451.0</td>\n",
       "    </tr>\n",
       "  </tbody>\n",
       "</table>\n",
       "<p>169 rows × 6 columns</p>\n",
       "</div>"
      ],
      "text/plain": [
       "               Entity      Code  Year  Life expectancy at birth (years)  \\\n",
       "215       Afghanistan       AFG  2015                         63.287998   \n",
       "285            Africa       NaN  2015                         61.457001   \n",
       "502           Albania       ALB  2015                         78.174004   \n",
       "722           Algeria       DZA  2015                         75.860001   \n",
       "1162           Angola       AGO  2015                         61.241001   \n",
       "...               ...       ...   ...                               ...   \n",
       "49102  Western Europe       NaN  2015                         81.507004   \n",
       "49386           World  OWID_WRL  2015                         71.429001   \n",
       "49603           Yemen       YEM  2015                         64.742996   \n",
       "49823          Zambia       ZMB  2015                         61.396999   \n",
       "50043        Zimbabwe       ZWE  2015                         60.397999   \n",
       "\n",
       "       GDP per capita ($)  Population by country  \n",
       "215                1928.0             33736494.0  \n",
       "285                4684.0                    NaN  \n",
       "502               10947.0              2923352.0  \n",
       "722               13024.0             39871528.0  \n",
       "1162               8631.0             27859305.0  \n",
       "...                   ...                    ...  \n",
       "49102             40175.0                    NaN  \n",
       "49386             14500.0                    NaN  \n",
       "49603              2496.0             26916207.0  \n",
       "49823              3537.0             16100587.0  \n",
       "50043              1759.0             15777451.0  \n",
       "\n",
       "[169 rows x 6 columns]"
      ]
     },
     "execution_count": 4,
     "metadata": {},
     "output_type": "execute_result"
    }
   ],
   "source": [
    "df = df.dropna(subset=['Life expectancy at birth (years)','GDP per capita ($)'])\n",
    "df"
   ]
  },
  {
   "cell_type": "code",
   "execution_count": 5,
   "metadata": {},
   "outputs": [
    {
     "data": {
      "image/png": "[encoded data removed]",
      "text/plain": [
       "<Figure size 432x288 with 1 Axes>"
      ]
     },
     "metadata": {
      "needs_background": "light"
     },
     "output_type": "display_data"
    }
   ],
   "source": [
    "plt.scatter(df['GDP per capita ($)'],df['Life expectancy at birth (years)']);"
   ]
  },
  {
   "cell_type": "code",
   "execution_count": 6,
   "metadata": {},
   "outputs": [
    {
     "data": {
      "text/plain": [
       "8.125762489873411"
      ]
     },
     "execution_count": 6,
     "metadata": {},
     "output_type": "execute_result"
    }
   ],
   "source": [
    "std = df['Life expectancy at birth (years)'].std()\n",
    "std"
   ]
  },
  {
   "cell_type": "code",
   "execution_count": 7,
   "metadata": {},
   "outputs": [
    {
     "data": {
      "text/plain": [
       "71.7350473372781"
      ]
     },
     "execution_count": 7,
     "metadata": {},
     "output_type": "execute_result"
    }
   ],
   "source": [
    "mean = df['Life expectancy at birth (years)'].mean()\n",
    "mean"
   ]
  },
  {
   "cell_type": "code",
   "execution_count": 8,
   "metadata": {},
   "outputs": [
    {
     "data": {
      "text/plain": [
       "79.86080982715151"
      ]
     },
     "execution_count": 8,
     "metadata": {},
     "output_type": "execute_result"
    }
   ],
   "source": [
    "oneStdOverMean = mean + std\n",
    "oneStdOverMean"
   ]
  },
  {
   "cell_type": "code",
   "execution_count": 9,
   "metadata": {
    "scrolled": true
   },
   "outputs": [
    {
     "data": {
      "text/plain": [
       "2174          Australia\n",
       "2460            Austria\n",
       "4007            Belgium\n",
       "7087             Canada\n",
       "10283            Cyprus\n",
       "11038           Denmark\n",
       "14036           Finland\n",
       "14989            France\n",
       "16006           Germany\n",
       "16447            Greece\n",
       "18405         Hong Kong\n",
       "18845           Iceland\n",
       "19954           Ireland\n",
       "20175            Israel\n",
       "20405             Italy\n",
       "20853             Japan\n",
       "24735        Luxembourg\n",
       "26341             Malta\n",
       "30596       Netherlands\n",
       "30882       New Zealand\n",
       "32180            Norway\n",
       "35395          Portugal\n",
       "39114         Singapore\n",
       "39554          Slovenia\n",
       "40594       South Korea\n",
       "41374             Spain\n",
       "43040            Sweden\n",
       "43261       Switzerland\n",
       "47144    United Kingdom\n",
       "49102    Western Europe\n",
       "Name: Entity, dtype: object"
      ]
     },
     "execution_count": 9,
     "metadata": {},
     "output_type": "execute_result"
    }
   ],
   "source": [
    "EntityOneSTD = df.loc[df['Life expectancy at birth (years)'] > oneStdOverMean]\n",
    "EntityOneSTD['Entity']"
   ]
  },
  {
   "cell_type": "code",
   "execution_count": 10,
   "metadata": {},
   "outputs": [
    {
     "data": {
      "text/plain": [
       "18281.005917159764"
      ]
     },
     "execution_count": 10,
     "metadata": {},
     "output_type": "execute_result"
    }
   ],
   "source": [
    "lowGDP = df['GDP per capita ($)'].mean()\n",
    "lowGDP"
   ]
  },
  {
   "cell_type": "code",
   "execution_count": 11,
   "metadata": {},
   "outputs": [
    {
     "data": {
      "text/plain": [
       "71.7350473372781"
      ]
     },
     "execution_count": 11,
     "metadata": {},
     "output_type": "execute_result"
    }
   ],
   "source": [
    "highLe = df['Life expectancy at birth (years)'].mean()\n",
    "highLe"
   ]
  },
  {
   "cell_type": "code",
   "execution_count": 14,
   "metadata": {},
   "outputs": [
    {
     "data": {
      "text/plain": [
       "502                     Albania\n",
       "722                     Algeria\n",
       "1822                    Armenia\n",
       "2680                 Azerbaijan\n",
       "3340                 Bangladesh\n",
       "3560                   Barbados\n",
       "5107     Bosnia and Herzegovina\n",
       "5547                     Brazil\n",
       "5987                   Bulgaria\n",
       "7307                 Cape Verde\n",
       "8453                      China\n",
       "8673                   Colombia\n",
       "9333                 Costa Rica\n",
       "9997                       Cuba\n",
       "11698        Dominican Republic\n",
       "12193                   Ecuador\n",
       "12641               El Salvador\n",
       "15781                   Georgia\n",
       "17019                 Guatemala\n",
       "18185                  Honduras\n",
       "19510                      Iran\n",
       "20625                   Jamaica\n",
       "21074                    Jordan\n",
       "23085                   Lebanon\n",
       "23943                     Libya\n",
       "25021                 Macedonia\n",
       "27067                 Mauritius\n",
       "27626                    Mexico\n",
       "28990                Montenegro\n",
       "29276                   Morocco\n",
       "31102                 Nicaragua\n",
       "33126                 Palestine\n",
       "33786                  Paraguay\n",
       "34006                      Peru\n",
       "36848               Saint Lucia\n",
       "41594                 Sri Lanka\n",
       "44361                  Thailand\n",
       "45462                   Tunisia\n",
       "46571                   Ukraine\n",
       "48599                 Venezuela\n",
       "48819                   Vietnam\n",
       "Name: Entity, dtype: object"
      ]
     },
     "execution_count": 14,
     "metadata": {},
     "output_type": "execute_result"
    }
   ],
   "source": [
    "HiLElowGDP = df.loc[(df['Life expectancy at birth (years)'] > highLe)]\n",
    "HiLElowGDP = HiLElowGDP.loc[(HiLElowGDP['GDP per capita ($)'] < lowGDP)]\n",
    "HiLElowGDP['Entity']"
   ]
  },
  {
   "cell_type": "code",
   "execution_count": 15,
   "metadata": {},
   "outputs": [
    {
     "data": {
      "text/plain": [
       "12861      Equatorial Guinea\n",
       "21294             Kazakhstan\n",
       "36188                 Russia\n",
       "45241    Trinidad and Tobago\n",
       "45911           Turkmenistan\n",
       "Name: Entity, dtype: object"
      ]
     },
     "execution_count": 15,
     "metadata": {},
     "output_type": "execute_result"
    }
   ],
   "source": [
    "HiLElowGDP = df.loc[(df['Life expectancy at birth (years)'] < highLe)]\n",
    "HiLElowGDP = HiLElowGDP.loc[(HiLElowGDP['GDP per capita ($)'] > lowGDP)]\n",
    "HiLElowGDP['Entity']"
   ]
  },
  {
   "cell_type": "markdown",
   "metadata": {},
   "source": [
    "## 2"
   ]
  },
  {
   "cell_type": "code",
   "execution_count": 23,
   "metadata": {},
   "outputs": [
    {
     "data": {
      "text/plain": [
       "<matplotlib.collections.PathCollection at 0x203698d9518>"
      ]
     },
     "execution_count": 23,
     "metadata": {},
     "output_type": "execute_result"
    },
    {
     "data": {
      "image/png": "[encoded data removed]",
      "text/plain": [
       "<Figure size 432x288 with 1 Axes>"
      ]
     },
     "metadata": {
      "needs_background": "light"
     },
     "output_type": "display_data"
    }
   ],
   "source": [
    "df = pd.read_csv(\"../assignment1/gdp-vs-happiness.csv\")\n",
    "df = df.loc[df['Year'] == 2017]\n",
    "df = df.dropna(subset=['GDP per capita (constant 2011 international $)',' Life satisfaction (country average; 0-10) (Cantril Ladder (0=worst; 10=best))'])\n",
    "plt.scatter(df['GDP per capita (constant 2011 international $)'],df[' Life satisfaction (country average; 0-10) (Cantril Ladder (0=worst; 10=best))'])"
   ]
  },
  {
   "cell_type": "code",
   "execution_count": null,
   "metadata": {},
   "outputs": [],
   "source": []
  }
 ],
 "metadata": {
  "kernelspec": {
   "display_name": "Python 3",
   "language": "python",
   "name": "python3"
  },
  "language_info": {
   "codemirror_mode": {
    "name": "ipython",
    "version": 3
   },
   "file_extension": ".py",
   "mimetype": "text/x-python",
   "name": "python",
   "nbconvert_exporter": "python",
   "pygments_lexer": "ipython3",
   "version": "3.7.3"
  }
 },
 "nbformat": 4,
 "nbformat_minor": 2
}
