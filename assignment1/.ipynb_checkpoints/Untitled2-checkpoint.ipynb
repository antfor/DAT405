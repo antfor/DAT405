{
 "cells": [
  {
   "cell_type": "markdown",
   "metadata": {},
   "source": [
    "Isak Schwartz: 6 hours\n",
    "Anton Forsberg: 6 hours\n",
    "# Assignment 1: Introduction to Data Science and Python"
   ]
  },
  {
   "cell_type": "code",
   "execution_count": 1,
   "metadata": {},
   "outputs": [],
   "source": [
    "# basic imports and reading of file\n",
    "import matplotlib.pyplot as plt\n",
    "import pandas as pd\n",
    "import numpy as np"
   ]
  },
  {
   "cell_type": "code",
   "execution_count": 2,
   "metadata": {},
   "outputs": [],
   "source": [
    "df = pd.read_csv(\"../assignment1/life-expectancy-vs-gdp-per-capita.csv\")"
   ]
  },
  {
   "cell_type": "markdown",
   "metadata": {},
   "source": [
    "## Task 1"
   ]
  },
  {
   "cell_type": "markdown",
   "metadata": {},
   "source": [
    "### task 1.d (Data cleaning)"
   ]
  },
  {
   "cell_type": "code",
   "execution_count": 3,
   "metadata": {},
   "outputs": [],
   "source": [
    "df = df.loc[df['Year'] == 2015] # we only used the data from 2015."
   ]
  },
  {
   "cell_type": "markdown",
   "metadata": {},
   "source": [
    "The reason for only using the data from 2015 was that this is the most recent data, and therefore hopefully most accurate. And it is important that we compare countries' data from the same year to make a fair comparison."
   ]
  },
  {
   "cell_type": "code",
   "execution_count": 4,
   "metadata": {},
   "outputs": [],
   "source": [
    "df = df.dropna(subset=['Life expectancy at birth (years)','GDP per capita ($)'])"
   ]
  },
  {
   "cell_type": "markdown",
   "metadata": {},
   "source": [
    "We remove all the values that have have no numerical values (NaN) because we cannot plot them in any case. We realize that this means we omit some countries, which could potentially have been solved by taking data from previous years if available. This would make an unfair and possibly poorly accurate repersentation of some countries though."
   ]
  },
  {
   "cell_type": "markdown",
   "metadata": {},
   "source": [
    "### task 1.0 (scatter plot life expectancy vs GDP per capita)"
   ]
  },
  {
   "cell_type": "code",
   "execution_count": 5,
   "metadata": {},
   "outputs": [
    {
     "data": {
      "image/png": "[encoded data removed]",
      "text/plain": [
       "<Figure size 432x288 with 1 Axes>"
      ]
     },
     "metadata": {
      "needs_background": "light"
     },
     "output_type": "display_data"
    }
   ],
   "source": [
    "plt.scatter(df['GDP per capita ($)'],df['Life expectancy at birth (years)']);\n",
    "plt.xlabel(\"GDP per capita ($)\")\n",
    "plt.ylabel(\"Life expectancy at birth (years)\")\n",
    "plt.show()"
   ]
  },
  {
   "cell_type": "markdown",
   "metadata": {},
   "source": [
    "A scatter plot of GDP per capita vs life expectancy.\n",
    "\n",
    "We decided to plot life expectancy on the y axis and GDP per capita on the x axis to make it more clear if there's a correlation between the two. One could assume that life expectancy would increase as the GDP increases since people would then  possibly have more access to medication and social security. This makes the plot more intuitive in the same way that plotting the movement of a car is done best by having time on the x axis and distance on the y axis, it is what we are the most used to. \n",
    "\n",
    "Altough it is also possible that higher GDP per capita could be the result of higher life expectancy. An example scenario of this would be two identical countries but where one naturally has better access to healthy food and life styles, allowing for longer lives. This would allow people to work longer and therefore improve the economy possibly.\n",
    "\n",
    "There does seem to be at least a correlation between the two because we see that dots with higher GDP per capita tend to have higher life expectancy and vice versa. But we cannot say whether it is due to causation without further proof. \n",
    "\n",
    "We have two outliers that have relatively low life expectancy compared to GDP per capita, Equatorial guinea and Qatar. This could be due to economic inequalities despite the existance of valuable natural resources. "
   ]
  },
  {
   "cell_type": "markdown",
   "metadata": {},
   "source": [
    "### task 1.a (Life expectancy higher than mean + 1 std)"
   ]
  },
  {
   "cell_type": "code",
   "execution_count": 6,
   "metadata": {},
   "outputs": [
    {
     "data": {
      "text/plain": [
       "8.125762489873411"
      ]
     },
     "execution_count": 6,
     "metadata": {},
     "output_type": "execute_result"
    }
   ],
   "source": [
    "std = df['Life expectancy at birth (years)'].std()  \n",
    "std # The standard deviation of the life expectancy "
   ]
  },
  {
   "cell_type": "code",
   "execution_count": 7,
   "metadata": {},
   "outputs": [
    {
     "data": {
      "text/plain": [
       "71.7350473372781"
      ]
     },
     "execution_count": 7,
     "metadata": {},
     "output_type": "execute_result"
    }
   ],
   "source": [
    "mean = df['Life expectancy at birth (years)'].mean()\n",
    "mean # The mean of the life expectancy "
   ]
  },
  {
   "cell_type": "code",
   "execution_count": 8,
   "metadata": {},
   "outputs": [
    {
     "data": {
      "text/plain": [
       "79.86080982715151"
      ]
     },
     "execution_count": 8,
     "metadata": {},
     "output_type": "execute_result"
    }
   ],
   "source": [
    "oneStdOverMean = mean + std\n",
    "oneStdOverMean # calculate the life expectancy that is one standard deviation above the mean"
   ]
  },
  {
   "cell_type": "code",
   "execution_count": 9,
   "metadata": {
    "scrolled": true
   },
   "outputs": [
    {
     "data": {
      "text/plain": [
       "2174          Australia\n",
       "2460            Austria\n",
       "4007            Belgium\n",
       "7087             Canada\n",
       "10283            Cyprus\n",
       "11038           Denmark\n",
       "14036           Finland\n",
       "14989            France\n",
       "16006           Germany\n",
       "16447            Greece\n",
       "18405         Hong Kong\n",
       "18845           Iceland\n",
       "19954           Ireland\n",
       "20175            Israel\n",
       "20405             Italy\n",
       "20853             Japan\n",
       "24735        Luxembourg\n",
       "26341             Malta\n",
       "30596       Netherlands\n",
       "30882       New Zealand\n",
       "32180            Norway\n",
       "35395          Portugal\n",
       "39114         Singapore\n",
       "39554          Slovenia\n",
       "40594       South Korea\n",
       "41374             Spain\n",
       "43040            Sweden\n",
       "43261       Switzerland\n",
       "47144    United Kingdom\n",
       "49102    Western Europe\n",
       "Name: Entity, dtype: object"
      ]
     },
     "execution_count": 9,
     "metadata": {},
     "output_type": "execute_result"
    }
   ],
   "source": [
    "# a filtered list of entities that have a life expectency of one standard deviation above the mean\n",
    "EntityOneSTD = df.loc[df['Life expectancy at birth (years)'] > oneStdOverMean] \n",
    "EntityOneSTD['Entity']"
   ]
  },
  {
   "cell_type": "markdown",
   "metadata": {},
   "source": [
    "Above we can see a list of all the countries that have a life expectency of one standard deviation above the mean. The numbers on the left is simply an index for each entry. \n",
    "\n",
    "We see that many of these are first world countries which is to be expected since they generally have better access to healthcare. They also have easier access to better food usually, but the same goes for junk food so it's hard to say if it is a considerable factor."
   ]
  },
  {
   "cell_type": "markdown",
   "metadata": {},
   "source": [
    "### task 1.b (high life expectancy but low GDP)"
   ]
  },
  {
   "cell_type": "markdown",
   "metadata": {},
   "source": [
    "What we decided to define as \"high\" life expectancy was values above the mean and \"low\" GDP per capita as below the mean. \n",
    "The reason for this is that there is no good standard definition on what is concidered high or low. \n",
    "We tried to define high and low as one standard deviation above respecively below the mean. But when we tried this we saw that the standard deviation for GDP per capita was greater than its mean, meaning that the \"low\"-value would be negative. This would mean that there is no country with a low GDP per capita so we decided to use the aforementioned threshold as definition for low and high in the rest of this assignment for consistency.\n"
   ]
  },
  {
   "cell_type": "code",
   "execution_count": 10,
   "metadata": {},
   "outputs": [
    {
     "data": {
      "text/plain": [
       "18281.005917159764"
      ]
     },
     "execution_count": 10,
     "metadata": {},
     "output_type": "execute_result"
    }
   ],
   "source": [
    "lowGDP = df['GDP per capita ($)'].mean() # the mean of the GDP per capita\n",
    "lowGDP"
   ]
  },
  {
   "cell_type": "code",
   "execution_count": 11,
   "metadata": {},
   "outputs": [],
   "source": [
    "highLE = df['Life expectancy at birth (years)'].mean() # the mean of the Life expectancy at birth"
   ]
  },
  {
   "cell_type": "code",
   "execution_count": 12,
   "metadata": {},
   "outputs": [
    {
     "data": {
      "text/plain": [
       "502                     Albania\n",
       "722                     Algeria\n",
       "1822                    Armenia\n",
       "2680                 Azerbaijan\n",
       "3340                 Bangladesh\n",
       "3560                   Barbados\n",
       "5107     Bosnia and Herzegovina\n",
       "5547                     Brazil\n",
       "5987                   Bulgaria\n",
       "7307                 Cape Verde\n",
       "8453                      China\n",
       "8673                   Colombia\n",
       "9333                 Costa Rica\n",
       "9997                       Cuba\n",
       "11698        Dominican Republic\n",
       "12193                   Ecuador\n",
       "12641               El Salvador\n",
       "15781                   Georgia\n",
       "17019                 Guatemala\n",
       "18185                  Honduras\n",
       "19510                      Iran\n",
       "20625                   Jamaica\n",
       "21074                    Jordan\n",
       "23085                   Lebanon\n",
       "23943                     Libya\n",
       "25021                 Macedonia\n",
       "27067                 Mauritius\n",
       "27626                    Mexico\n",
       "28990                Montenegro\n",
       "29276                   Morocco\n",
       "31102                 Nicaragua\n",
       "33126                 Palestine\n",
       "33786                  Paraguay\n",
       "34006                      Peru\n",
       "36848               Saint Lucia\n",
       "41594                 Sri Lanka\n",
       "44361                  Thailand\n",
       "45462                   Tunisia\n",
       "46571                   Ukraine\n",
       "48599                 Venezuela\n",
       "48819                   Vietnam\n",
       "Name: Entity, dtype: object"
      ]
     },
     "execution_count": 12,
     "metadata": {},
     "output_type": "execute_result"
    }
   ],
   "source": [
    "HiLElowGDP = df.loc[(df['Life expectancy at birth (years)'] > highLE)]\n",
    "HiLElowGDP = HiLElowGDP.loc[(HiLElowGDP['GDP per capita ($)'] < lowGDP)]\n",
    "HiLElowGDP['Entity']"
   ]
  },
  {
   "cell_type": "markdown",
   "metadata": {},
   "source": [
    "The countries one could expect here are mainly somewhat poor countries. There are many healthhy first world countries but their GDP per capita is too high generally. There are a lot of countries with low GDP per capita though with high life expectancy which we would expect to be developing or poorer countries."
   ]
  },
  {
   "cell_type": "markdown",
   "metadata": {},
   "source": [
    "### task 1.c (Does every strong ecenomy have high life expectancy?)\n",
    "We investigate this by making a table with countries that have high GDP per capita and low life expectancy."
   ]
  },
  {
   "cell_type": "code",
   "execution_count": 13,
   "metadata": {},
   "outputs": [
    {
     "data": {
      "text/plain": [
       "12861      Equatorial Guinea\n",
       "21294             Kazakhstan\n",
       "36188                 Russia\n",
       "45241    Trinidad and Tobago\n",
       "45911           Turkmenistan\n",
       "Name: Entity, dtype: object"
      ]
     },
     "execution_count": 13,
     "metadata": {},
     "output_type": "execute_result"
    }
   ],
   "source": [
    "HiLElowGDP = df.loc[(df['Life expectancy at birth (years)'] < highLE)]\n",
    "HiLElowGDP = HiLElowGDP.loc[(HiLElowGDP['GDP per capita ($)'] > lowGDP)]\n",
    "HiLElowGDP['Entity']"
   ]
  },
  {
   "cell_type": "markdown",
   "metadata": {},
   "source": [
    "Only a few countries have a strong economy with low life expectancy. This could be the result of wealth inequality and poor living conditions for the general population, depsite big economic assets. Russia's low life expectancy could partially be the result of widespread alcohol consumption. The other countries could have massive amounts of valuable natural resources that only profit a few people.\n",
    "This is of course just speculation and we can't draw any conclusions from the data for the reason behind these strong economies having low life expectancy. "
   ]
  },
  {
   "cell_type": "markdown",
   "metadata": {},
   "source": [
    "# task 2"
   ]
  },
  {
   "cell_type": "markdown",
   "metadata": {},
   "source": [
    "## GDP per capita vs life satisfaction"
   ]
  },
  {
   "cell_type": "markdown",
   "metadata": {},
   "source": [
    "Here we make a scatter plot of GDP per capita compared to life satisfaction where life satisfaction is on a scale from 0 to 10 (10 is the highest possible life satisfaction) . \n",
    "The data that are presented are only taken from 2017 since this was the most resent data collected.  "
   ]
  },
  {
   "cell_type": "code",
   "execution_count": 14,
   "metadata": {},
   "outputs": [
    {
     "data": {
      "image/png": "[encoded data removed]",
      "text/plain": [
       "<Figure size 432x288 with 1 Axes>"
      ]
     },
     "metadata": {
      "needs_background": "light"
     },
     "output_type": "display_data"
    }
   ],
   "source": [
    "df = pd.read_csv(\"../assignment1/gdp-vs-happiness.csv\")\n",
    "df = df.loc[df['Year'] == 2017]\n",
    "df = df.dropna(subset=['GDP per capita (constant 2011 international $)',' Life satisfaction (country average; 0-10) (Cantril Ladder (0=worst; 10=best))'])\n",
    "plt.scatter(df['GDP per capita (constant 2011 international $)'],df[' Life satisfaction (country average; 0-10) (Cantril Ladder (0=worst; 10=best))'])\n",
    "plt.xlabel(\"GDP per capita (constant 2011 international $)\")\n",
    "plt.ylabel(\"Life satisfaction (country average; 0-10) (Cantril Ladder (0=worst; 10=best))\")\n",
    "plt.show()"
   ]
  },
  {
   "cell_type": "markdown",
   "metadata": {},
   "source": [
    "We plot GDP per capita on the x axis and satisfaction on the y axis to make the plot more intuitive because it seems more reasonable that satisfaction would depend on GDP per capita, rather than the other way around. One can assume that an increase of GDP per capita would mean people have better oppurtunities, living standards and health which should increaase satisfaction generally. \n",
    "\n",
    "It is a bit harder to argue for the reverse case. One could say that if people were more satisfied that would be more motivated to do new things which would drive innovation and increase GDP. This might be true if we assume that high satisfaction here somehow is linked to happinesss or motivation and low satisfaction would mean someone is depressed or unmotivated. But high satisfaction could also mean that people as comfortable in their current position and are unwilling to make changes, halting innovation.\n",
    "\n",
    "According to the graph it does seem like higher GDP per capita implies higher life satisfaction. This is mostly true for countries with mmedium to high GDP per capita, countries on the middle and the right of the plot. However there does seem to be many countries (on the left of the plot) with very low GDP per capita that both have high and low satisfaction. These variations could be due to some poor countries having great wealth inequalities which means normal people feel like they are treated unfairly, meaning low satisfaction. On the other hand there could be poor countries where everyone is poor, or where people dont see and interact with people of power regularly who they can compare themselves to, meaning people feel relatively satisfied.\n",
    "\n",
    "What we can also see is that the happiness seems to plateau somewhere around a GDP of  30000 where moar money does not seem to lead to a significant increase in happiness. There could be a lot of reason behind this, for example the country is wealthy but due to income inequality the median salary is still comparable to countries with a GDP of 30000. One other reason could be that there are things that affect a person's happiness that can’t be solved by having more money, friends and family for example. \n",
    "\n",
    "If want to know the reason as for why the graph is looking as it does and not just speculate we would need more data related to this subject to answer what hypotheses are true or false."
   ]
  },
  {
   "cell_type": "markdown",
   "metadata": {},
   "source": [
    "## Corruption and trust in government"
   ]
  },
  {
   "cell_type": "markdown",
   "metadata": {},
   "source": [
    "Here we make a scatter plot of trust in government compared to corruption index where a lower index means more corruption, for different countries.\n",
    "\n",
    "This data and the following data that are presented are only taken from 2018 since we want relevant data and we want a fair comparison between all countries.\n"
   ]
  },
  {
   "cell_type": "code",
   "execution_count": 15,
   "metadata": {
    "scrolled": true
   },
   "outputs": [
    {
     "data": {
      "image/png": "[encoded data removed]",
      "text/plain": [
       "<Figure size 432x288 with 1 Axes>"
      ]
     },
     "metadata": {
      "needs_background": "light"
     },
     "output_type": "display_data"
    }
   ],
   "source": [
    "trust = pd.read_csv(\"share-who-trust-government.csv\")\n",
    "corruption = pd.read_csv(\"TI-corruption-perception-index.csv\")\n",
    "\n",
    "trust=trust.loc[trust['Year'] == 2018]\n",
    "corruption=corruption.loc[corruption['Year'] == 2018]\n",
    "\n",
    "# prepare indexes for joining frames\n",
    "corruption.reset_index()\n",
    "corruption.set_index('Entity', inplace = True)\n",
    "trust.set_index('Entity', inplace =True)\n",
    "corruption = corruption.drop(columns = ['Code', 'Year'])\n",
    "\n",
    "ct = trust.join(corruption)\n",
    "\n",
    "plt.scatter(ct['Corruption Perception Index'], ct['Share of people who trust their national government (%)'])\n",
    "plt.xlabel(\"Corruption Perception Index\")\n",
    "plt.ylabel(\"Share of people who trust their national government (%)\")\n",
    "plt.show()\n"
   ]
  },
  {
   "cell_type": "markdown",
   "metadata": {},
   "source": [
    "We decided to plot trust on the y axis and corruption on the x axis since it is more likely that trust is dependent on corruption rather than the other way around. Plotting it this way would therefore make the plot more intuitive.\n",
    "\n",
    "We see no clear general relationsship between corruption and trust. One could expect countries to generally have less trust if they are more corrupt, but here we se many countries (on the left of the plot) with high corruption with both high and low trust. The cause of this could be many factors like propaganda and misinformation spread by media that interfere. We do see however that countries (on the right side of the plot) with low corruption have high trust in their government generally though which is to be expected.\n",
    "\n",
    "We can observe that there are many countries that have high trust in their government even though they are highly corrupt. So we will study this further in the next section"
   ]
  },
  {
   "cell_type": "markdown",
   "metadata": {},
   "source": [
    "## Countries with high corruption but also high trust\n",
    "here we show a list of all the countries that have high corruption (low corruption index) but still have a high trust in their government. We assume that high and low means that the corresponding value or above respectively below the mean, as explained previously. \n",
    "The countries are sorted by trust-corruption-ratio, meaning countries with higher trust compared to corruption will be first in the list below. The ratio is computed by dividing the trust value with the corruption index.\n",
    "\n",
    "We get an error when we remove the 'Code' and 'Year' columns from the dataframe but it removes the columns regardless so it is not a problem."
   ]
  },
  {
   "cell_type": "code",
   "execution_count": 16,
   "metadata": {},
   "outputs": [
    {
     "name": "stderr",
     "output_type": "stream",
     "text": [
      "C:\\Users\\Bali\\Anaconda3\\lib\\site-packages\\pandas\\core\\frame.py:4102: SettingWithCopyWarning: \n",
      "A value is trying to be set on a copy of a slice from a DataFrame\n",
      "\n",
      "See the caveats in the documentation: http://pandas.pydata.org/pandas-docs/stable/user_guide/indexing.html#returning-a-view-versus-a-copy\n",
      "  errors=errors,\n",
      "C:\\Users\\Bali\\Anaconda3\\lib\\site-packages\\ipykernel_launcher.py:12: SettingWithCopyWarning: \n",
      "A value is trying to be set on a copy of a slice from a DataFrame.\n",
      "Try using .loc[row_indexer,col_indexer] = value instead\n",
      "\n",
      "See the caveats in the documentation: http://pandas.pydata.org/pandas-docs/stable/user_guide/indexing.html#returning-a-view-versus-a-copy\n",
      "  if sys.path[0] == '':\n"
     ]
    },
    {
     "data": {
      "text/html": [
       "<div>\n",
       "<style scoped>\n",
       "    .dataframe tbody tr th:only-of-type {\n",
       "        vertical-align: middle;\n",
       "    }\n",
       "\n",
       "    .dataframe tbody tr th {\n",
       "        vertical-align: top;\n",
       "    }\n",
       "\n",
       "    .dataframe thead th {\n",
       "        text-align: right;\n",
       "    }\n",
       "</style>\n",
       "<table border=\"1\" class=\"dataframe\">\n",
       "  <thead>\n",
       "    <tr style=\"text-align: right;\">\n",
       "      <th></th>\n",
       "      <th>Share of people who trust their national government (%)</th>\n",
       "      <th>Corruption Perception Index</th>\n",
       "      <th>Trust-corruption-ratio</th>\n",
       "    </tr>\n",
       "    <tr>\n",
       "      <th>Entity</th>\n",
       "      <th></th>\n",
       "      <th></th>\n",
       "      <th></th>\n",
       "    </tr>\n",
       "  </thead>\n",
       "  <tbody>\n",
       "    <tr>\n",
       "      <td>Uzbekistan</td>\n",
       "      <td>99.219376</td>\n",
       "      <td>23.0</td>\n",
       "      <td>4.313886</td>\n",
       "    </tr>\n",
       "    <tr>\n",
       "      <td>Burundi</td>\n",
       "      <td>60.460616</td>\n",
       "      <td>17.0</td>\n",
       "      <td>3.556507</td>\n",
       "    </tr>\n",
       "    <tr>\n",
       "      <td>Azerbaijan</td>\n",
       "      <td>88.280274</td>\n",
       "      <td>25.0</td>\n",
       "      <td>3.531211</td>\n",
       "    </tr>\n",
       "    <tr>\n",
       "      <td>Bangladesh</td>\n",
       "      <td>85.599574</td>\n",
       "      <td>26.0</td>\n",
       "      <td>3.292291</td>\n",
       "    </tr>\n",
       "    <tr>\n",
       "      <td>Mozambique</td>\n",
       "      <td>72.452708</td>\n",
       "      <td>23.0</td>\n",
       "      <td>3.150118</td>\n",
       "    </tr>\n",
       "    <tr>\n",
       "      <td>Myanmar</td>\n",
       "      <td>88.304771</td>\n",
       "      <td>29.0</td>\n",
       "      <td>3.044992</td>\n",
       "    </tr>\n",
       "    <tr>\n",
       "      <td>Ethiopia</td>\n",
       "      <td>92.341298</td>\n",
       "      <td>34.0</td>\n",
       "      <td>2.715921</td>\n",
       "    </tr>\n",
       "    <tr>\n",
       "      <td>Tanzania</td>\n",
       "      <td>87.617440</td>\n",
       "      <td>36.0</td>\n",
       "      <td>2.433818</td>\n",
       "    </tr>\n",
       "    <tr>\n",
       "      <td>Zimbabwe</td>\n",
       "      <td>52.910583</td>\n",
       "      <td>22.0</td>\n",
       "      <td>2.405026</td>\n",
       "    </tr>\n",
       "    <tr>\n",
       "      <td>Kenya</td>\n",
       "      <td>64.536766</td>\n",
       "      <td>27.0</td>\n",
       "      <td>2.390251</td>\n",
       "    </tr>\n",
       "    <tr>\n",
       "      <td>Iran</td>\n",
       "      <td>66.514666</td>\n",
       "      <td>28.0</td>\n",
       "      <td>2.375524</td>\n",
       "    </tr>\n",
       "    <tr>\n",
       "      <td>Nepal</td>\n",
       "      <td>71.981133</td>\n",
       "      <td>31.0</td>\n",
       "      <td>2.321972</td>\n",
       "    </tr>\n",
       "    <tr>\n",
       "      <td>Kazakhstan</td>\n",
       "      <td>71.389299</td>\n",
       "      <td>31.0</td>\n",
       "      <td>2.302881</td>\n",
       "    </tr>\n",
       "    <tr>\n",
       "      <td>Armenia</td>\n",
       "      <td>79.742444</td>\n",
       "      <td>35.0</td>\n",
       "      <td>2.278356</td>\n",
       "    </tr>\n",
       "    <tr>\n",
       "      <td>Thailand</td>\n",
       "      <td>81.600906</td>\n",
       "      <td>36.0</td>\n",
       "      <td>2.266692</td>\n",
       "    </tr>\n",
       "    <tr>\n",
       "      <td>Kyrgyzstan</td>\n",
       "      <td>63.341802</td>\n",
       "      <td>29.0</td>\n",
       "      <td>2.184200</td>\n",
       "    </tr>\n",
       "    <tr>\n",
       "      <td>Liberia</td>\n",
       "      <td>68.713096</td>\n",
       "      <td>32.0</td>\n",
       "      <td>2.147284</td>\n",
       "    </tr>\n",
       "    <tr>\n",
       "      <td>Uganda</td>\n",
       "      <td>55.487469</td>\n",
       "      <td>26.0</td>\n",
       "      <td>2.134133</td>\n",
       "    </tr>\n",
       "    <tr>\n",
       "      <td>Sierra Leone</td>\n",
       "      <td>63.843847</td>\n",
       "      <td>30.0</td>\n",
       "      <td>2.128128</td>\n",
       "    </tr>\n",
       "    <tr>\n",
       "      <td>Philippines</td>\n",
       "      <td>72.542712</td>\n",
       "      <td>36.0</td>\n",
       "      <td>2.015075</td>\n",
       "    </tr>\n",
       "    <tr>\n",
       "      <td>Niger</td>\n",
       "      <td>67.541008</td>\n",
       "      <td>34.0</td>\n",
       "      <td>1.986500</td>\n",
       "    </tr>\n",
       "    <tr>\n",
       "      <td>Gambia</td>\n",
       "      <td>71.551324</td>\n",
       "      <td>37.0</td>\n",
       "      <td>1.933820</td>\n",
       "    </tr>\n",
       "    <tr>\n",
       "      <td>Indonesia</td>\n",
       "      <td>72.544216</td>\n",
       "      <td>38.0</td>\n",
       "      <td>1.909058</td>\n",
       "    </tr>\n",
       "    <tr>\n",
       "      <td>Russia</td>\n",
       "      <td>53.131192</td>\n",
       "      <td>28.0</td>\n",
       "      <td>1.897543</td>\n",
       "    </tr>\n",
       "    <tr>\n",
       "      <td>India</td>\n",
       "      <td>77.151112</td>\n",
       "      <td>41.0</td>\n",
       "      <td>1.881734</td>\n",
       "    </tr>\n",
       "    <tr>\n",
       "      <td>Dominican Republic</td>\n",
       "      <td>54.976300</td>\n",
       "      <td>30.0</td>\n",
       "      <td>1.832543</td>\n",
       "    </tr>\n",
       "    <tr>\n",
       "      <td>Malawi</td>\n",
       "      <td>58.134542</td>\n",
       "      <td>32.0</td>\n",
       "      <td>1.816704</td>\n",
       "    </tr>\n",
       "    <tr>\n",
       "      <td>Pakistan</td>\n",
       "      <td>57.680364</td>\n",
       "      <td>33.0</td>\n",
       "      <td>1.747890</td>\n",
       "    </tr>\n",
       "    <tr>\n",
       "      <td>Swaziland</td>\n",
       "      <td>65.061737</td>\n",
       "      <td>38.0</td>\n",
       "      <td>1.712151</td>\n",
       "    </tr>\n",
       "    <tr>\n",
       "      <td>Zambia</td>\n",
       "      <td>56.703003</td>\n",
       "      <td>35.0</td>\n",
       "      <td>1.620086</td>\n",
       "    </tr>\n",
       "    <tr>\n",
       "      <td>Ghana</td>\n",
       "      <td>65.843099</td>\n",
       "      <td>41.0</td>\n",
       "      <td>1.605929</td>\n",
       "    </tr>\n",
       "    <tr>\n",
       "      <td>Sri Lanka</td>\n",
       "      <td>60.849835</td>\n",
       "      <td>38.0</td>\n",
       "      <td>1.601311</td>\n",
       "    </tr>\n",
       "    <tr>\n",
       "      <td>Turkey</td>\n",
       "      <td>56.582468</td>\n",
       "      <td>41.0</td>\n",
       "      <td>1.380060</td>\n",
       "    </tr>\n",
       "    <tr>\n",
       "      <td>Burkina Faso</td>\n",
       "      <td>54.661103</td>\n",
       "      <td>41.0</td>\n",
       "      <td>1.333198</td>\n",
       "    </tr>\n",
       "  </tbody>\n",
       "</table>\n",
       "</div>"
      ],
      "text/plain": [
       "                    Share of people who trust their national government (%)  \\\n",
       "Entity                                                                        \n",
       "Uzbekistan                                                  99.219376         \n",
       "Burundi                                                     60.460616         \n",
       "Azerbaijan                                                  88.280274         \n",
       "Bangladesh                                                  85.599574         \n",
       "Mozambique                                                  72.452708         \n",
       "Myanmar                                                     88.304771         \n",
       "Ethiopia                                                    92.341298         \n",
       "Tanzania                                                    87.617440         \n",
       "Zimbabwe                                                    52.910583         \n",
       "Kenya                                                       64.536766         \n",
       "Iran                                                        66.514666         \n",
       "Nepal                                                       71.981133         \n",
       "Kazakhstan                                                  71.389299         \n",
       "Armenia                                                     79.742444         \n",
       "Thailand                                                    81.600906         \n",
       "Kyrgyzstan                                                  63.341802         \n",
       "Liberia                                                     68.713096         \n",
       "Uganda                                                      55.487469         \n",
       "Sierra Leone                                                63.843847         \n",
       "Philippines                                                 72.542712         \n",
       "Niger                                                       67.541008         \n",
       "Gambia                                                      71.551324         \n",
       "Indonesia                                                   72.544216         \n",
       "Russia                                                      53.131192         \n",
       "India                                                       77.151112         \n",
       "Dominican Republic                                          54.976300         \n",
       "Malawi                                                      58.134542         \n",
       "Pakistan                                                    57.680364         \n",
       "Swaziland                                                   65.061737         \n",
       "Zambia                                                      56.703003         \n",
       "Ghana                                                       65.843099         \n",
       "Sri Lanka                                                   60.849835         \n",
       "Turkey                                                      56.582468         \n",
       "Burkina Faso                                                54.661103         \n",
       "\n",
       "                    Corruption Perception Index  Trust-corruption-ratio  \n",
       "Entity                                                                   \n",
       "Uzbekistan                                 23.0                4.313886  \n",
       "Burundi                                    17.0                3.556507  \n",
       "Azerbaijan                                 25.0                3.531211  \n",
       "Bangladesh                                 26.0                3.292291  \n",
       "Mozambique                                 23.0                3.150118  \n",
       "Myanmar                                    29.0                3.044992  \n",
       "Ethiopia                                   34.0                2.715921  \n",
       "Tanzania                                   36.0                2.433818  \n",
       "Zimbabwe                                   22.0                2.405026  \n",
       "Kenya                                      27.0                2.390251  \n",
       "Iran                                       28.0                2.375524  \n",
       "Nepal                                      31.0                2.321972  \n",
       "Kazakhstan                                 31.0                2.302881  \n",
       "Armenia                                    35.0                2.278356  \n",
       "Thailand                                   36.0                2.266692  \n",
       "Kyrgyzstan                                 29.0                2.184200  \n",
       "Liberia                                    32.0                2.147284  \n",
       "Uganda                                     26.0                2.134133  \n",
       "Sierra Leone                               30.0                2.128128  \n",
       "Philippines                                36.0                2.015075  \n",
       "Niger                                      34.0                1.986500  \n",
       "Gambia                                     37.0                1.933820  \n",
       "Indonesia                                  38.0                1.909058  \n",
       "Russia                                     28.0                1.897543  \n",
       "India                                      41.0                1.881734  \n",
       "Dominican Republic                         30.0                1.832543  \n",
       "Malawi                                     32.0                1.816704  \n",
       "Pakistan                                   33.0                1.747890  \n",
       "Swaziland                                  38.0                1.712151  \n",
       "Zambia                                     35.0                1.620086  \n",
       "Ghana                                      41.0                1.605929  \n",
       "Sri Lanka                                  38.0                1.601311  \n",
       "Turkey                                     41.0                1.380060  \n",
       "Burkina Faso                               41.0                1.333198  "
      ]
     },
     "execution_count": 16,
     "metadata": {},
     "output_type": "execute_result"
    }
   ],
   "source": [
    "meanCT = ct.mean()\n",
    "\n",
    "# get countries that are corrupt but have high trust\n",
    "ct2 = ct.loc[ct['Corruption Perception Index'] < meanCT['Corruption Perception Index']]\n",
    "ct3 = ct2.loc[ct2['Share of people who trust their national government (%)'] > meanCT['Share of people who trust their national government (%)']]\n",
    "\n",
    "# Remove unnecessary info\n",
    "ct3.drop('Code',axis=1, inplace =True)\n",
    "ct3.drop('Year',axis=1, inplace =True)\n",
    "\n",
    "# calculate and sort according to trust-corruption ratio\n",
    "ct3['Trust-corruption-ratio'] = ct3['Share of people who trust their national government (%)'] / ct3['Corruption Perception Index']\n",
    "ct3.sort_values(by=['Trust-corruption-ratio'], ascending = False)"
   ]
  },
  {
   "cell_type": "markdown",
   "metadata": {},
   "source": [
    "We see that most countries that are corrupt but have high trust in their government are mostly poor African countries. It is possible that this due to propaganda or lack of transparency in combination with lack of freedom of press, investigating journalism, public service and censorship. Russia is an interesting exception among these african countries but it might be expected since it shares a lot of the aforementioned problems with the other countries on this list. "
   ]
  }
 ],
 "metadata": {
  "kernelspec": {
   "display_name": "Python 3",
   "language": "python",
   "name": "python3"
  },
  "language_info": {
   "codemirror_mode": {
    "name": "ipython",
    "version": 3
   },
   "file_extension": ".py",
   "mimetype": "text/x-python",
   "name": "python",
   "nbconvert_exporter": "python",
   "pygments_lexer": "ipython3",
   "version": "3.7.3"
  }
 },
 "nbformat": 4,
 "nbformat_minor": 2
}
