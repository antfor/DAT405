{
 "cells": [
  {
   "cell_type": "markdown",
   "metadata": {},
   "source": [
    "### Assignment 1: Introduction to Data Science and Python"
   ]
  },
  {
   "cell_type": "code",
   "execution_count": 1,
   "metadata": {},
   "outputs": [],
   "source": [
    "import matplotlib.pyplot as plt\n",
    "import pandas as pd\n",
    "import numpy as np"
   ]
  },
  {
   "cell_type": "code",
   "execution_count": 2,
   "metadata": {},
   "outputs": [],
   "source": [
    "df = pd.read_csv(\"../assignment1/life-expectancy-vs-gdp-per-capita.csv\")"
   ]
  },
  {
   "cell_type": "markdown",
   "metadata": {},
   "source": [
    "## 1"
   ]
  },
  {
   "cell_type": "markdown",
   "metadata": {},
   "source": [
    "# d (Data cleaning)"
   ]
  },
  {
   "cell_type": "code",
   "execution_count": 3,
   "metadata": {},
   "outputs": [],
   "source": [
    "df = df.loc[df['Year'] == 2015] # we onley used the data from 2015."
   ]
  },
  {
   "cell_type": "markdown",
   "metadata": {},
   "source": [
    "The reason for using the data from 2015 was that this is the moast recent data. And it is importent that we compare countries whit data from the same year."
   ]
  },
  {
   "cell_type": "code",
   "execution_count": 4,
   "metadata": {},
   "outputs": [],
   "source": [
    "df = df.dropna(subset=['Life expectancy at birth (years)','GDP per capita ($)'])"
   ]
  },
  {
   "cell_type": "markdown",
   "metadata": {},
   "source": [
    "We remove all the values that have have no values (NA). Because in that case we can not plot them."
   ]
  },
  {
   "cell_type": "code",
   "execution_count": 5,
   "metadata": {},
   "outputs": [
    {
     "data": {
      "image/png": "[encoded data removed]",
      "text/plain": [
       "<Figure size 432x288 with 1 Axes>"
      ]
     },
     "metadata": {
      "needs_background": "light"
     },
     "output_type": "display_data"
    }
   ],
   "source": [
    "plt.scatter(df['GDP per capita ($)'],df['Life expectancy at birth (years)']);"
   ]
  },
  {
   "cell_type": "markdown",
   "metadata": {},
   "source": [
    "A scatter plot of GDP per capita vs life expectancy."
   ]
  },
  {
   "cell_type": "markdown",
   "metadata": {},
   "source": [
    "# a"
   ]
  },
  {
   "cell_type": "code",
   "execution_count": 6,
   "metadata": {},
   "outputs": [
    {
     "data": {
      "text/plain": [
       "8.125762489873411"
      ]
     },
     "execution_count": 6,
     "metadata": {},
     "output_type": "execute_result"
    }
   ],
   "source": [
    "std = df['Life expectancy at birth (years)'].std()  \n",
    "std # The standard deviation of the life expectancy "
   ]
  },
  {
   "cell_type": "code",
   "execution_count": 7,
   "metadata": {},
   "outputs": [
    {
     "data": {
      "text/plain": [
       "71.7350473372781"
      ]
     },
     "execution_count": 7,
     "metadata": {},
     "output_type": "execute_result"
    }
   ],
   "source": [
    "mean = df['Life expectancy at birth (years)'].mean()\n",
    "mean # The mean of the life expectancy "
   ]
  },
  {
   "cell_type": "code",
   "execution_count": 8,
   "metadata": {},
   "outputs": [
    {
     "data": {
      "text/plain": [
       "79.86080982715151"
      ]
     },
     "execution_count": 8,
     "metadata": {},
     "output_type": "execute_result"
    }
   ],
   "source": [
    "oneStdOverMean = mean + std\n",
    "oneStdOverMean # calculate the life expectancy that is one standard deviation above the mean"
   ]
  },
  {
   "cell_type": "code",
   "execution_count": 9,
   "metadata": {
    "scrolled": true
   },
   "outputs": [
    {
     "data": {
      "text/plain": [
       "2174          Australia\n",
       "2460            Austria\n",
       "4007            Belgium\n",
       "7087             Canada\n",
       "10283            Cyprus\n",
       "11038           Denmark\n",
       "14036           Finland\n",
       "14989            France\n",
       "16006           Germany\n",
       "16447            Greece\n",
       "18405         Hong Kong\n",
       "18845           Iceland\n",
       "19954           Ireland\n",
       "20175            Israel\n",
       "20405             Italy\n",
       "20853             Japan\n",
       "24735        Luxembourg\n",
       "26341             Malta\n",
       "30596       Netherlands\n",
       "30882       New Zealand\n",
       "32180            Norway\n",
       "35395          Portugal\n",
       "39114         Singapore\n",
       "39554          Slovenia\n",
       "40594       South Korea\n",
       "41374             Spain\n",
       "43040            Sweden\n",
       "43261       Switzerland\n",
       "47144    United Kingdom\n",
       "49102    Western Europe\n",
       "Name: Entity, dtype: object"
      ]
     },
     "execution_count": 9,
     "metadata": {},
     "output_type": "execute_result"
    }
   ],
   "source": [
    "# a filtered list of entitys that have a life expectency of one standard deviation above the mean\n",
    "EntityOneSTD = df.loc[df['Life expectancy at birth (years)'] > oneStdOverMean] \n",
    "EntityOneSTD['Entity']"
   ]
  },
  {
   "cell_type": "markdown",
   "metadata": {},
   "source": [
    "Above we can see a list of all the countries that have a life expectency of one standard deviation above the mean"
   ]
  },
  {
   "cell_type": "markdown",
   "metadata": {},
   "source": [
    "# b"
   ]
  },
  {
   "cell_type": "markdown",
   "metadata": {},
   "source": [
    "What we decided to define as \"high\" life expectancy as above the mean and \"low\" GDP as below the mean. "
   ]
  },
  {
   "cell_type": "code",
   "execution_count": 10,
   "metadata": {},
   "outputs": [],
   "source": [
    "lowGDP = df['GDP per capita ($)'].mean()"
   ]
  },
  {
   "cell_type": "code",
   "execution_count": 11,
   "metadata": {},
   "outputs": [],
   "source": [
    "highLE = df['Life expectancy at birth (years)'].mean()"
   ]
  },
  {
   "cell_type": "code",
   "execution_count": 12,
   "metadata": {},
   "outputs": [
    {
     "data": {
      "text/plain": [
       "502           Albania\n",
       "722           Algeria\n",
       "1602        Argentina\n",
       "1822          Armenia\n",
       "2680       Azerbaijan\n",
       "             ...     \n",
       "47939      Uzbekistan\n",
       "48599       Venezuela\n",
       "48819         Vietnam\n",
       "48955    Western Asia\n",
       "49386           World\n",
       "Name: Entity, Length: 84, dtype: object"
      ]
     },
     "execution_count": 12,
     "metadata": {},
     "output_type": "execute_result"
    }
   ],
   "source": [
    "HiLElowGDP = df.loc[(df['Life expectancy at birth (years)'] > highLE)]\n",
    "HiLElowGDP = HiLElowGDP.loc[(HiLElowGDP['GDP per capita ($)'] < lowGDP)]\n",
    "HiLElowGDP['Entity']"
   ]
  },
  {
   "cell_type": "markdown",
   "metadata": {},
   "source": []
  },
  {
   "cell_type": "markdown",
   "metadata": {},
   "source": [
    "# c"
   ]
  },
  {
   "cell_type": "code",
   "execution_count": 13,
   "metadata": {},
   "outputs": [
    {
     "data": {
      "text/plain": [
       "12861    Equatorial Guinea\n",
       "Name: Entity, dtype: object"
      ]
     },
     "execution_count": 13,
     "metadata": {},
     "output_type": "execute_result"
    }
   ],
   "source": [
    "HiLElowGDP = df.loc[(df['Life expectancy at birth (years)'] < highLE)]\n",
    "HiLElowGDP = HiLElowGDP.loc[(HiLElowGDP['GDP per capita ($)'] > lowGDP)]\n",
    "HiLElowGDP['Entity']"
   ]
  },
  {
   "cell_type": "markdown",
   "metadata": {},
   "source": [
    "## 2"
   ]
  },
  {
   "cell_type": "code",
   "execution_count": 14,
   "metadata": {},
   "outputs": [
    {
     "data": {
      "text/plain": [
       "<matplotlib.collections.PathCollection at 0x1ebccfe5588>"
      ]
     },
     "execution_count": 14,
     "metadata": {},
     "output_type": "execute_result"
    },
    {
     "data": {
      "image/png": "[encoded data removed]",
      "text/plain": [
       "<Figure size 432x288 with 1 Axes>"
      ]
     },
     "metadata": {
      "needs_background": "light"
     },
     "output_type": "display_data"
    }
   ],
   "source": [
    "df = pd.read_csv(\"../assignment1/gdp-vs-happiness.csv\")\n",
    "df = df.loc[df['Year'] == 2017]\n",
    "df = df.dropna(subset=['GDP per capita (constant 2011 international $)',' Life satisfaction (country average; 0-10) (Cantril Ladder (0=worst; 10=best))'])\n",
    "plt.scatter(df['GDP per capita (constant 2011 international $)'],df[' Life satisfaction (country average; 0-10) (Cantril Ladder (0=worst; 10=best))'])"
   ]
  },
  {
   "cell_type": "code",
   "execution_count": null,
   "metadata": {},
   "outputs": [],
   "source": []
  }
 ],
 "metadata": {
  "kernelspec": {
   "display_name": "Python 3",
   "language": "python",
   "name": "python3"
  },
  "language_info": {
   "codemirror_mode": {
    "name": "ipython",
    "version": 3
   },
   "file_extension": ".py",
   "mimetype": "text/x-python",
   "name": "python",
   "nbconvert_exporter": "python",
   "pygments_lexer": "ipython3",
   "version": "3.7.3"
  }
 },
 "nbformat": 4,
 "nbformat_minor": 2
}
