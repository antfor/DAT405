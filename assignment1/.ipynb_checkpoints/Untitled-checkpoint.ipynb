{
 "cells": [
  {
   "cell_type": "markdown",
   "metadata": {},
   "source": [
    "### Assignment 1: Introduction to Data Science and Python"
   ]
  },
  {
   "cell_type": "code",
   "execution_count": 1,
   "metadata": {},
   "outputs": [],
   "source": [
    "import matplotlib.pyplot as plt\n",
    "import pandas as pd\n",
    "import numpy as np"
   ]
  },
  {
   "cell_type": "code",
   "execution_count": 2,
   "metadata": {},
   "outputs": [],
   "source": [
    "df = pd.read_csv(\"../assignment1/life-expectancy-vs-gdp-per-capita.csv\")"
   ]
  },
  {
   "cell_type": "markdown",
   "metadata": {},
   "source": [
    "## 1"
   ]
  },
  {
   "cell_type": "markdown",
   "metadata": {},
   "source": [
    "# d (Data cleaning)"
   ]
  },
  {
   "cell_type": "code",
   "execution_count": 3,
   "metadata": {},
   "outputs": [],
   "source": [
    "df = df.loc[df['Year'] == 2015] # we onley used the data from 2015."
   ]
  },
  {
   "cell_type": "markdown",
   "metadata": {},
   "source": [
    "The reason for using the data from 2015 was that this is the moast recent data. And it is importent that we compare countries whit data from the same year."
   ]
  },
  {
   "cell_type": "code",
   "execution_count": 4,
   "metadata": {},
   "outputs": [],
   "source": [
    "df = df.dropna(subset=['Life expectancy at birth (years)','GDP per capita ($)'])"
   ]
  },
  {
   "cell_type": "markdown",
   "metadata": {},
   "source": [
    "We remove all the values that have have no values (NA). Because in that case we can not plot them."
   ]
  },
  {
   "cell_type": "code",
   "execution_count": 5,
   "metadata": {},
   "outputs": [
    {
     "data": {
      "image/png": "[encoded data removed]",
      "text/plain": [
       "<Figure size 432x288 with 1 Axes>"
      ]
     },
     "metadata": {
      "needs_background": "light"
     },
     "output_type": "display_data"
    }
   ],
   "source": [
    "plt.scatter(df['GDP per capita ($)'],df['Life expectancy at birth (years)']);\n",
    "plt.xlabel(\"GDP per capita ($)\")\n",
    "plt.ylabel(\"Life expectancy at birth (years)\")"
   ]
  },
  {
   "cell_type": "markdown",
   "metadata": {},
   "source": [
    "A scatter plot of GDP per capita vs life expectancy."
   ]
  },
  {
   "cell_type": "markdown",
   "metadata": {},
   "source": [
    "# a"
   ]
  },
  {
   "cell_type": "code",
   "execution_count": 6,
   "metadata": {},
   "outputs": [
    {
     "data": {
      "text/plain": [
       "8.125762489873411"
      ]
     },
     "execution_count": 6,
     "metadata": {},
     "output_type": "execute_result"
    }
   ],
   "source": [
    "std = df['Life expectancy at birth (years)'].std()  \n",
    "std # The standard deviation of the life expectancy "
   ]
  },
  {
   "cell_type": "code",
   "execution_count": 7,
   "metadata": {},
   "outputs": [
    {
     "data": {
      "text/plain": [
       "71.7350473372781"
      ]
     },
     "execution_count": 7,
     "metadata": {},
     "output_type": "execute_result"
    }
   ],
   "source": [
    "mean = df['Life expectancy at birth (years)'].mean()\n",
    "mean # The mean of the life expectancy "
   ]
  },
  {
   "cell_type": "code",
   "execution_count": 8,
   "metadata": {},
   "outputs": [
    {
     "data": {
      "text/plain": [
       "79.86080982715151"
      ]
     },
     "execution_count": 8,
     "metadata": {},
     "output_type": "execute_result"
    }
   ],
   "source": [
    "oneStdOverMean = mean + std\n",
    "oneStdOverMean # calculate the life expectancy that is one standard deviation above the mean"
   ]
  },
  {
   "cell_type": "code",
   "execution_count": 9,
   "metadata": {
    "scrolled": true
   },
   "outputs": [
    {
     "data": {
      "text/plain": [
       "2174          Australia\n",
       "2460            Austria\n",
       "4007            Belgium\n",
       "7087             Canada\n",
       "10283            Cyprus\n",
       "11038           Denmark\n",
       "14036           Finland\n",
       "14989            France\n",
       "16006           Germany\n",
       "16447            Greece\n",
       "18405         Hong Kong\n",
       "18845           Iceland\n",
       "19954           Ireland\n",
       "20175            Israel\n",
       "20405             Italy\n",
       "20853             Japan\n",
       "24735        Luxembourg\n",
       "26341             Malta\n",
       "30596       Netherlands\n",
       "30882       New Zealand\n",
       "32180            Norway\n",
       "35395          Portugal\n",
       "39114         Singapore\n",
       "39554          Slovenia\n",
       "40594       South Korea\n",
       "41374             Spain\n",
       "43040            Sweden\n",
       "43261       Switzerland\n",
       "47144    United Kingdom\n",
       "49102    Western Europe\n",
       "Name: Entity, dtype: object"
      ]
     },
     "execution_count": 9,
     "metadata": {},
     "output_type": "execute_result"
    }
   ],
   "source": [
    "# a filtered list of entitys that have a life expectency of one standard deviation above the mean\n",
    "EntityOneSTD = df.loc[df['Life expectancy at birth (years)'] > oneStdOverMean] \n",
    "EntityOneSTD['Entity']"
   ]
  },
  {
   "cell_type": "markdown",
   "metadata": {},
   "source": [
    "Above we can see a list of all the countries that have a life expectency of one standard deviation above the mean"
   ]
  },
  {
   "cell_type": "markdown",
   "metadata": {},
   "source": [
    "# b"
   ]
  },
  {
   "cell_type": "markdown",
   "metadata": {},
   "source": [
    "What we decided to define as \"high\" life expectancy was values above the mean and \"low\" GDP as below the mean. \n",
    "The reason for this is that thier is no good standard definition on what is concidered high or low. \n",
    "We tried to define heig or low as one standard deviation abowe or below as high and low. But for this definition what would be concidered low GDP was lower than all of the countries GDPs. This would mean that there is no countrie with low  GDP in the world and for that reason we decided that that was not a good metric.\n"
   ]
  },
  {
   "cell_type": "code",
   "execution_count": 10,
   "metadata": {},
   "outputs": [],
   "source": [
    "lowGDP = df['GDP per capita ($)'].mean() # the mean of the GDP per capita"
   ]
  },
  {
   "cell_type": "code",
   "execution_count": 11,
   "metadata": {},
   "outputs": [],
   "source": [
    "highLE = df['Life expectancy at birth (years)'].mean() # the mean of the Life expectancy at birth"
   ]
  },
  {
   "cell_type": "code",
   "execution_count": 12,
   "metadata": {},
   "outputs": [
    {
     "data": {
      "text/plain": [
       "502                     Albania\n",
       "722                     Algeria\n",
       "1822                    Armenia\n",
       "2680                 Azerbaijan\n",
       "3340                 Bangladesh\n",
       "3560                   Barbados\n",
       "5107     Bosnia and Herzegovina\n",
       "5547                     Brazil\n",
       "5987                   Bulgaria\n",
       "7307                 Cape Verde\n",
       "8453                      China\n",
       "8673                   Colombia\n",
       "9333                 Costa Rica\n",
       "9997                       Cuba\n",
       "11698        Dominican Republic\n",
       "12193                   Ecuador\n",
       "12641               El Salvador\n",
       "15781                   Georgia\n",
       "17019                 Guatemala\n",
       "18185                  Honduras\n",
       "19510                      Iran\n",
       "20625                   Jamaica\n",
       "21074                    Jordan\n",
       "23085                   Lebanon\n",
       "23943                     Libya\n",
       "25021                 Macedonia\n",
       "27067                 Mauritius\n",
       "27626                    Mexico\n",
       "28990                Montenegro\n",
       "29276                   Morocco\n",
       "31102                 Nicaragua\n",
       "33126                 Palestine\n",
       "33786                  Paraguay\n",
       "34006                      Peru\n",
       "36848               Saint Lucia\n",
       "41594                 Sri Lanka\n",
       "44361                  Thailand\n",
       "45462                   Tunisia\n",
       "46571                   Ukraine\n",
       "48599                 Venezuela\n",
       "48819                   Vietnam\n",
       "Name: Entity, dtype: object"
      ]
     },
     "execution_count": 12,
     "metadata": {},
     "output_type": "execute_result"
    }
   ],
   "source": [
    "HiLElowGDP = df.loc[(df['Life expectancy at birth (years)'] > highLE)]\n",
    "HiLElowGDP = HiLElowGDP.loc[(HiLElowGDP['GDP per capita ($)'] < lowGDP)]\n",
    "HiLElowGDP['Entity']"
   ]
  },
  {
   "cell_type": "markdown",
   "metadata": {},
   "source": []
  },
  {
   "cell_type": "markdown",
   "metadata": {},
   "source": [
    "# c"
   ]
  },
  {
   "cell_type": "code",
   "execution_count": 13,
   "metadata": {},
   "outputs": [
    {
     "data": {
      "text/plain": [
       "12861      Equatorial Guinea\n",
       "21294             Kazakhstan\n",
       "36188                 Russia\n",
       "45241    Trinidad and Tobago\n",
       "45911           Turkmenistan\n",
       "Name: Entity, dtype: object"
      ]
     },
     "execution_count": 13,
     "metadata": {},
     "output_type": "execute_result"
    }
   ],
   "source": [
    "HiLElowGDP = df.loc[(df['Life expectancy at birth (years)'] < highLE)]\n",
    "HiLElowGDP = HiLElowGDP.loc[(HiLElowGDP['GDP per capita ($)'] > lowGDP)]\n",
    "HiLElowGDP['Entity']"
   ]
  },
  {
   "cell_type": "markdown",
   "metadata": {},
   "source": [
    "## 2"
   ]
  },
  {
   "cell_type": "markdown",
   "metadata": {},
   "source": [
    "## GDP vs life satisfaction"
   ]
  },
  {
   "cell_type": "markdown",
   "metadata": {},
   "source": [
    "Here we make a scatter plot of GDP compared to life satisfaction where life satisfaction is on a scale from 0 to 10 (10 is the highest possible life satisfaction) . \n",
    "The data that are presented are only taken from 2017 since this was the moast resent data collected.  "
   ]
  },
  {
   "cell_type": "code",
   "execution_count": 14,
   "metadata": {},
   "outputs": [
    {
     "data": {
      "image/png": "[encoded data removed]",
      "text/plain": [
       "<Figure size 432x288 with 1 Axes>"
      ]
     },
     "metadata": {
      "needs_background": "light"
     },
     "output_type": "display_data"
    }
   ],
   "source": [
    "df = pd.read_csv(\"../assignment1/gdp-vs-happiness.csv\")\n",
    "df = df.loc[df['Year'] == 2017]\n",
    "df = df.dropna(subset=['GDP per capita (constant 2011 international $)',' Life satisfaction (country average; 0-10) (Cantril Ladder (0=worst; 10=best))'])\n",
    "plt.scatter(df['GDP per capita (constant 2011 international $)'],df[' Life satisfaction (country average; 0-10) (Cantril Ladder (0=worst; 10=best))'])\n",
    "plt.xlabel(\"GDP per capita (constant 2011 international $)\")\n",
    "plt.ylabel(\"Life satisfaction (country average; 0-10) (Cantril Ladder (0=worst; 10=best))\")\n",
    "plt.show()"
   ]
  },
  {
   "cell_type": "markdown",
   "metadata": {},
   "source": [
    "As we can se in the plot above the "
   ]
  },
  {
   "cell_type": "markdown",
   "metadata": {},
   "source": [
    "## Corruption and trust in government"
   ]
  },
  {
   "cell_type": "markdown",
   "metadata": {},
   "source": [
    "Here we make a scatter plot of trust in government compared to corruption index where a lower index means more corruption, for different countries.\n",
    "\n",
    "This data and the following data that are presented are only taken from 2018 since we want relevant data and we want a fair comparison between all countries.\n"
   ]
  },
  {
   "cell_type": "code",
   "execution_count": 19,
   "metadata": {
    "scrolled": true
   },
   "outputs": [
    {
     "data": {
      "image/png": "[encoded data removed]",
      "text/plain": [
       "<Figure size 432x288 with 1 Axes>"
      ]
     },
     "metadata": {
      "needs_background": "light"
     },
     "output_type": "display_data"
    }
   ],
   "source": [
    "trust = pd.read_csv(\"share-who-trust-government.csv\")\n",
    "corruption = pd.read_csv(\"TI-corruption-perception-index.csv\")\n",
    "\n",
    "trust=trust.loc[trust['Year'] == 2018]\n",
    "corruption=corruption.loc[corruption['Year'] == 2018]\n",
    "\n",
    "# prepare indexes for joining frames\n",
    "corruption.reset_index()\n",
    "corruption.set_index('Entity', inplace = True)\n",
    "trust.set_index('Entity', inplace =True)\n",
    "corruption = corruption.drop(columns = ['Code', 'Year'])\n",
    "\n",
    "ct = trust.join(corruption)\n",
    "\n",
    "plt.scatter(ct['Corruption Perception Index'], ct['Share of people who trust their national government (%)'])\n",
    "plt.xlabel(\"Corruption Perception Index\")\n",
    "plt.ylabel(\"Share of people who trust their national government (%)\")\n",
    "plt.show()\n"
   ]
  },
  {
   "cell_type": "markdown",
   "metadata": {},
   "source": [
    "We see no clear relationsship between corruption and trust. One could expect countries to generally have less trust if they are more corrupt. But many factors like propaganda and media fake news can interfere.\n",
    "\n",
    "We can observe that there are many countries that have high trust in their government even though they are highly corrupt. So we  will study this further in the next section"
   ]
  },
  {
   "cell_type": "markdown",
   "metadata": {},
   "source": [
    "## Countries with high corruption but also high trust\n",
    "here we show a list of all the countries that have high corruption (low corruption index) but still have a high trust in their government. We assume that high and low means that the corresponding value or above respectively below the mean. \n",
    "The countries are sorted by trust-corruption-ratio meaning countries with higher trust than corruption will be first in the list below."
   ]
  },
  {
   "cell_type": "code",
   "execution_count": 16,
   "metadata": {},
   "outputs": [
    {
     "name": "stderr",
     "output_type": "stream",
     "text": [
      "C:\\ProgramData\\Anaconda3\\lib\\site-packages\\pandas\\core\\frame.py:4117: SettingWithCopyWarning: \n",
      "A value is trying to be set on a copy of a slice from a DataFrame\n",
      "\n",
      "See the caveats in the documentation: http://pandas.pydata.org/pandas-docs/stable/user_guide/indexing.html#returning-a-view-versus-a-copy\n",
      "  errors=errors,\n",
      "C:\\ProgramData\\Anaconda3\\lib\\site-packages\\ipykernel_launcher.py:8: SettingWithCopyWarning: \n",
      "A value is trying to be set on a copy of a slice from a DataFrame.\n",
      "Try using .loc[row_indexer,col_indexer] = value instead\n",
      "\n",
      "See the caveats in the documentation: http://pandas.pydata.org/pandas-docs/stable/user_guide/indexing.html#returning-a-view-versus-a-copy\n",
      "  \n"
     ]
    },
    {
     "data": {
      "text/html": [
       "<div>\n",
       "<style scoped>\n",
       "    .dataframe tbody tr th:only-of-type {\n",
       "        vertical-align: middle;\n",
       "    }\n",
       "\n",
       "    .dataframe tbody tr th {\n",
       "        vertical-align: top;\n",
       "    }\n",
       "\n",
       "    .dataframe thead th {\n",
       "        text-align: right;\n",
       "    }\n",
       "</style>\n",
       "<table border=\"1\" class=\"dataframe\">\n",
       "  <thead>\n",
       "    <tr style=\"text-align: right;\">\n",
       "      <th></th>\n",
       "      <th>Share of people who trust their national government (%)</th>\n",
       "      <th>Corruption Perception Index</th>\n",
       "      <th>Trust-corruption-ratio</th>\n",
       "    </tr>\n",
       "    <tr>\n",
       "      <th>Entity</th>\n",
       "      <th></th>\n",
       "      <th></th>\n",
       "      <th></th>\n",
       "    </tr>\n",
       "  </thead>\n",
       "  <tbody>\n",
       "    <tr>\n",
       "      <th>Uzbekistan</th>\n",
       "      <td>99.219376</td>\n",
       "      <td>23.0</td>\n",
       "      <td>4.313886</td>\n",
       "    </tr>\n",
       "    <tr>\n",
       "      <th>Burundi</th>\n",
       "      <td>60.460616</td>\n",
       "      <td>17.0</td>\n",
       "      <td>3.556507</td>\n",
       "    </tr>\n",
       "    <tr>\n",
       "      <th>Azerbaijan</th>\n",
       "      <td>88.280274</td>\n",
       "      <td>25.0</td>\n",
       "      <td>3.531211</td>\n",
       "    </tr>\n",
       "    <tr>\n",
       "      <th>Bangladesh</th>\n",
       "      <td>85.599574</td>\n",
       "      <td>26.0</td>\n",
       "      <td>3.292291</td>\n",
       "    </tr>\n",
       "    <tr>\n",
       "      <th>Mozambique</th>\n",
       "      <td>72.452708</td>\n",
       "      <td>23.0</td>\n",
       "      <td>3.150118</td>\n",
       "    </tr>\n",
       "    <tr>\n",
       "      <th>Myanmar</th>\n",
       "      <td>88.304771</td>\n",
       "      <td>29.0</td>\n",
       "      <td>3.044992</td>\n",
       "    </tr>\n",
       "    <tr>\n",
       "      <th>Ethiopia</th>\n",
       "      <td>92.341298</td>\n",
       "      <td>34.0</td>\n",
       "      <td>2.715921</td>\n",
       "    </tr>\n",
       "    <tr>\n",
       "      <th>Tanzania</th>\n",
       "      <td>87.617440</td>\n",
       "      <td>36.0</td>\n",
       "      <td>2.433818</td>\n",
       "    </tr>\n",
       "    <tr>\n",
       "      <th>Zimbabwe</th>\n",
       "      <td>52.910583</td>\n",
       "      <td>22.0</td>\n",
       "      <td>2.405026</td>\n",
       "    </tr>\n",
       "    <tr>\n",
       "      <th>Kenya</th>\n",
       "      <td>64.536766</td>\n",
       "      <td>27.0</td>\n",
       "      <td>2.390251</td>\n",
       "    </tr>\n",
       "    <tr>\n",
       "      <th>Iran</th>\n",
       "      <td>66.514666</td>\n",
       "      <td>28.0</td>\n",
       "      <td>2.375524</td>\n",
       "    </tr>\n",
       "    <tr>\n",
       "      <th>Nepal</th>\n",
       "      <td>71.981133</td>\n",
       "      <td>31.0</td>\n",
       "      <td>2.321972</td>\n",
       "    </tr>\n",
       "    <tr>\n",
       "      <th>Kazakhstan</th>\n",
       "      <td>71.389299</td>\n",
       "      <td>31.0</td>\n",
       "      <td>2.302881</td>\n",
       "    </tr>\n",
       "    <tr>\n",
       "      <th>Armenia</th>\n",
       "      <td>79.742444</td>\n",
       "      <td>35.0</td>\n",
       "      <td>2.278356</td>\n",
       "    </tr>\n",
       "    <tr>\n",
       "      <th>Thailand</th>\n",
       "      <td>81.600906</td>\n",
       "      <td>36.0</td>\n",
       "      <td>2.266692</td>\n",
       "    </tr>\n",
       "    <tr>\n",
       "      <th>Kyrgyzstan</th>\n",
       "      <td>63.341802</td>\n",
       "      <td>29.0</td>\n",
       "      <td>2.184200</td>\n",
       "    </tr>\n",
       "    <tr>\n",
       "      <th>Liberia</th>\n",
       "      <td>68.713096</td>\n",
       "      <td>32.0</td>\n",
       "      <td>2.147284</td>\n",
       "    </tr>\n",
       "    <tr>\n",
       "      <th>Uganda</th>\n",
       "      <td>55.487469</td>\n",
       "      <td>26.0</td>\n",
       "      <td>2.134133</td>\n",
       "    </tr>\n",
       "    <tr>\n",
       "      <th>Sierra Leone</th>\n",
       "      <td>63.843847</td>\n",
       "      <td>30.0</td>\n",
       "      <td>2.128128</td>\n",
       "    </tr>\n",
       "    <tr>\n",
       "      <th>Philippines</th>\n",
       "      <td>72.542712</td>\n",
       "      <td>36.0</td>\n",
       "      <td>2.015075</td>\n",
       "    </tr>\n",
       "    <tr>\n",
       "      <th>Niger</th>\n",
       "      <td>67.541008</td>\n",
       "      <td>34.0</td>\n",
       "      <td>1.986500</td>\n",
       "    </tr>\n",
       "    <tr>\n",
       "      <th>Gambia</th>\n",
       "      <td>71.551324</td>\n",
       "      <td>37.0</td>\n",
       "      <td>1.933820</td>\n",
       "    </tr>\n",
       "    <tr>\n",
       "      <th>Indonesia</th>\n",
       "      <td>72.544216</td>\n",
       "      <td>38.0</td>\n",
       "      <td>1.909058</td>\n",
       "    </tr>\n",
       "    <tr>\n",
       "      <th>Russia</th>\n",
       "      <td>53.131192</td>\n",
       "      <td>28.0</td>\n",
       "      <td>1.897543</td>\n",
       "    </tr>\n",
       "    <tr>\n",
       "      <th>India</th>\n",
       "      <td>77.151112</td>\n",
       "      <td>41.0</td>\n",
       "      <td>1.881734</td>\n",
       "    </tr>\n",
       "    <tr>\n",
       "      <th>Dominican Republic</th>\n",
       "      <td>54.976300</td>\n",
       "      <td>30.0</td>\n",
       "      <td>1.832543</td>\n",
       "    </tr>\n",
       "    <tr>\n",
       "      <th>Malawi</th>\n",
       "      <td>58.134542</td>\n",
       "      <td>32.0</td>\n",
       "      <td>1.816704</td>\n",
       "    </tr>\n",
       "    <tr>\n",
       "      <th>Pakistan</th>\n",
       "      <td>57.680364</td>\n",
       "      <td>33.0</td>\n",
       "      <td>1.747890</td>\n",
       "    </tr>\n",
       "    <tr>\n",
       "      <th>Swaziland</th>\n",
       "      <td>65.061737</td>\n",
       "      <td>38.0</td>\n",
       "      <td>1.712151</td>\n",
       "    </tr>\n",
       "    <tr>\n",
       "      <th>Zambia</th>\n",
       "      <td>56.703003</td>\n",
       "      <td>35.0</td>\n",
       "      <td>1.620086</td>\n",
       "    </tr>\n",
       "    <tr>\n",
       "      <th>Ghana</th>\n",
       "      <td>65.843099</td>\n",
       "      <td>41.0</td>\n",
       "      <td>1.605929</td>\n",
       "    </tr>\n",
       "    <tr>\n",
       "      <th>Sri Lanka</th>\n",
       "      <td>60.849835</td>\n",
       "      <td>38.0</td>\n",
       "      <td>1.601311</td>\n",
       "    </tr>\n",
       "    <tr>\n",
       "      <th>Turkey</th>\n",
       "      <td>56.582468</td>\n",
       "      <td>41.0</td>\n",
       "      <td>1.380060</td>\n",
       "    </tr>\n",
       "    <tr>\n",
       "      <th>Burkina Faso</th>\n",
       "      <td>54.661103</td>\n",
       "      <td>41.0</td>\n",
       "      <td>1.333198</td>\n",
       "    </tr>\n",
       "  </tbody>\n",
       "</table>\n",
       "</div>"
      ],
      "text/plain": [
       "                    Share of people who trust their national government (%)  \\\n",
       "Entity                                                                        \n",
       "Uzbekistan                                                  99.219376         \n",
       "Burundi                                                     60.460616         \n",
       "Azerbaijan                                                  88.280274         \n",
       "Bangladesh                                                  85.599574         \n",
       "Mozambique                                                  72.452708         \n",
       "Myanmar                                                     88.304771         \n",
       "Ethiopia                                                    92.341298         \n",
       "Tanzania                                                    87.617440         \n",
       "Zimbabwe                                                    52.910583         \n",
       "Kenya                                                       64.536766         \n",
       "Iran                                                        66.514666         \n",
       "Nepal                                                       71.981133         \n",
       "Kazakhstan                                                  71.389299         \n",
       "Armenia                                                     79.742444         \n",
       "Thailand                                                    81.600906         \n",
       "Kyrgyzstan                                                  63.341802         \n",
       "Liberia                                                     68.713096         \n",
       "Uganda                                                      55.487469         \n",
       "Sierra Leone                                                63.843847         \n",
       "Philippines                                                 72.542712         \n",
       "Niger                                                       67.541008         \n",
       "Gambia                                                      71.551324         \n",
       "Indonesia                                                   72.544216         \n",
       "Russia                                                      53.131192         \n",
       "India                                                       77.151112         \n",
       "Dominican Republic                                          54.976300         \n",
       "Malawi                                                      58.134542         \n",
       "Pakistan                                                    57.680364         \n",
       "Swaziland                                                   65.061737         \n",
       "Zambia                                                      56.703003         \n",
       "Ghana                                                       65.843099         \n",
       "Sri Lanka                                                   60.849835         \n",
       "Turkey                                                      56.582468         \n",
       "Burkina Faso                                                54.661103         \n",
       "\n",
       "                    Corruption Perception Index  Trust-corruption-ratio  \n",
       "Entity                                                                   \n",
       "Uzbekistan                                 23.0                4.313886  \n",
       "Burundi                                    17.0                3.556507  \n",
       "Azerbaijan                                 25.0                3.531211  \n",
       "Bangladesh                                 26.0                3.292291  \n",
       "Mozambique                                 23.0                3.150118  \n",
       "Myanmar                                    29.0                3.044992  \n",
       "Ethiopia                                   34.0                2.715921  \n",
       "Tanzania                                   36.0                2.433818  \n",
       "Zimbabwe                                   22.0                2.405026  \n",
       "Kenya                                      27.0                2.390251  \n",
       "Iran                                       28.0                2.375524  \n",
       "Nepal                                      31.0                2.321972  \n",
       "Kazakhstan                                 31.0                2.302881  \n",
       "Armenia                                    35.0                2.278356  \n",
       "Thailand                                   36.0                2.266692  \n",
       "Kyrgyzstan                                 29.0                2.184200  \n",
       "Liberia                                    32.0                2.147284  \n",
       "Uganda                                     26.0                2.134133  \n",
       "Sierra Leone                               30.0                2.128128  \n",
       "Philippines                                36.0                2.015075  \n",
       "Niger                                      34.0                1.986500  \n",
       "Gambia                                     37.0                1.933820  \n",
       "Indonesia                                  38.0                1.909058  \n",
       "Russia                                     28.0                1.897543  \n",
       "India                                      41.0                1.881734  \n",
       "Dominican Republic                         30.0                1.832543  \n",
       "Malawi                                     32.0                1.816704  \n",
       "Pakistan                                   33.0                1.747890  \n",
       "Swaziland                                  38.0                1.712151  \n",
       "Zambia                                     35.0                1.620086  \n",
       "Ghana                                      41.0                1.605929  \n",
       "Sri Lanka                                  38.0                1.601311  \n",
       "Turkey                                     41.0                1.380060  \n",
       "Burkina Faso                               41.0                1.333198  "
      ]
     },
     "execution_count": 16,
     "metadata": {},
     "output_type": "execute_result"
    }
   ],
   "source": [
    "meanCT = ct.mean()\n",
    "\n",
    "ct2 = ct.loc[ct['Corruption Perception Index'] < meanCT['Corruption Perception Index']]\n",
    "ct3 = ct2.loc[ct2['Share of people who trust their national government (%)'] > meanCT['Share of people who trust their national government (%)']]\n",
    "\n",
    "ct3.drop('Code',axis=1, inplace =True)\n",
    "ct3.drop('Year',axis=1, inplace =True)\n",
    "ct3['Trust-corruption-ratio'] = ct3['Share of people who trust their national government (%)'] / ct3['Corruption Perception Index']\n",
    "ct3.sort_values(by=['Trust-corruption-ratio'], ascending = False)\n",
    "#meanCT"
   ]
  },
  {
   "cell_type": "code",
   "execution_count": null,
   "metadata": {},
   "outputs": [],
   "source": []
  }
 ],
 "metadata": {
  "kernelspec": {
   "display_name": "Python 3",
   "language": "python",
   "name": "python3"
  },
  "language_info": {
   "codemirror_mode": {
    "name": "ipython",
    "version": 3
   },
   "file_extension": ".py",
   "mimetype": "text/x-python",
   "name": "python",
   "nbconvert_exporter": "python",
   "pygments_lexer": "ipython3",
   "version": "3.7.3"
  }
 },
 "nbformat": 4,
 "nbformat_minor": 2
}
