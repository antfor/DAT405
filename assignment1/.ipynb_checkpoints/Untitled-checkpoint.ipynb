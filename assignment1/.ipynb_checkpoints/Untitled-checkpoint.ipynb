{
 "cells": [
  {
   "cell_type": "markdown",
   "metadata": {},
   "source": [
    "### Assignment 1: Introduction to Data Science and Python"
   ]
  },
  {
   "cell_type": "code",
   "execution_count": 1,
   "metadata": {},
   "outputs": [],
   "source": [
    "import matplotlib.pyplot as plt\n",
    "import pandas as pd\n",
    "import numpy as np"
   ]
  },
  {
   "cell_type": "code",
   "execution_count": 2,
   "metadata": {},
   "outputs": [],
   "source": [
    "df = pd.read_csv(\"../assignment1/life-expectancy-vs-gdp-per-capita.csv\")"
   ]
  },
  {
   "cell_type": "markdown",
   "metadata": {},
   "source": [
    "## 1"
   ]
  },
  {
   "cell_type": "markdown",
   "metadata": {},
   "source": [
    "# d (Data cleaning)"
   ]
  },
  {
   "cell_type": "code",
   "execution_count": 3,
   "metadata": {},
   "outputs": [],
   "source": [
    "df = df.loc[df['Year'] == 2015] # we onley used the data from 2015."
   ]
  },
  {
   "cell_type": "markdown",
   "metadata": {},
   "source": [
    "The reason for using the data from 2015 was that this is the moast recent data. And it is importent that we compare countries whit data from the same year."
   ]
  },
  {
   "cell_type": "code",
   "execution_count": 4,
   "metadata": {},
   "outputs": [],
   "source": [
    "df = df.dropna(subset=['Life expectancy at birth (years)','GDP per capita ($)'])"
   ]
  },
  {
   "cell_type": "markdown",
   "metadata": {},
   "source": [
    "We remove all the values that have have no values (NA). Because in that case we can not plot them."
   ]
  },
  {
   "cell_type": "code",
   "execution_count": 5,
   "metadata": {},
   "outputs": [
    {
     "data": {
      "image/png": "[encoded data removed]",
      "text/plain": [
       "<Figure size 432x288 with 1 Axes>"
      ]
     },
     "metadata": {
      "needs_background": "light"
     },
     "output_type": "display_data"
    }
   ],
   "source": [
    "plt.scatter(df['GDP per capita ($)'],df['Life expectancy at birth (years)']);"
   ]
  },
  {
   "cell_type": "markdown",
   "metadata": {},
   "source": [
    "A scatter plot of GDP per capita vs life expectancy."
   ]
  },
  {
   "cell_type": "markdown",
   "metadata": {},
   "source": [
    "# a"
   ]
  },
  {
   "cell_type": "code",
   "execution_count": 6,
   "metadata": {},
   "outputs": [
    {
     "data": {
      "text/plain": [
       "8.125762489873411"
      ]
     },
     "execution_count": 6,
     "metadata": {},
     "output_type": "execute_result"
    }
   ],
   "source": [
    "std = df['Life expectancy at birth (years)'].std()  \n",
    "std # The standard deviation of the life expectancy "
   ]
  },
  {
   "cell_type": "code",
   "execution_count": 7,
   "metadata": {},
   "outputs": [
    {
     "data": {
      "text/plain": [
       "71.7350473372781"
      ]
     },
     "execution_count": 7,
     "metadata": {},
     "output_type": "execute_result"
    }
   ],
   "source": [
    "mean = df['Life expectancy at birth (years)'].mean()\n",
    "mean # The mean of the life expectancy "
   ]
  },
  {
   "cell_type": "code",
   "execution_count": 8,
   "metadata": {},
   "outputs": [
    {
     "data": {
      "text/plain": [
       "79.86080982715151"
      ]
     },
     "execution_count": 8,
     "metadata": {},
     "output_type": "execute_result"
    }
   ],
   "source": [
    "oneStdOverMean = mean + std\n",
    "oneStdOverMean # calculate the life expectancy that is one standard deviation above the mean"
   ]
  },
  {
   "cell_type": "code",
   "execution_count": 9,
   "metadata": {
    "scrolled": true
   },
   "outputs": [
    {
     "data": {
      "text/plain": [
       "2174          Australia\n",
       "2460            Austria\n",
       "4007            Belgium\n",
       "7087             Canada\n",
       "10283            Cyprus\n",
       "11038           Denmark\n",
       "14036           Finland\n",
       "14989            France\n",
       "16006           Germany\n",
       "16447            Greece\n",
       "18405         Hong Kong\n",
       "18845           Iceland\n",
       "19954           Ireland\n",
       "20175            Israel\n",
       "20405             Italy\n",
       "20853             Japan\n",
       "24735        Luxembourg\n",
       "26341             Malta\n",
       "30596       Netherlands\n",
       "30882       New Zealand\n",
       "32180            Norway\n",
       "35395          Portugal\n",
       "39114         Singapore\n",
       "39554          Slovenia\n",
       "40594       South Korea\n",
       "41374             Spain\n",
       "43040            Sweden\n",
       "43261       Switzerland\n",
       "47144    United Kingdom\n",
       "49102    Western Europe\n",
       "Name: Entity, dtype: object"
      ]
     },
     "execution_count": 9,
     "metadata": {},
     "output_type": "execute_result"
    }
   ],
   "source": [
    "# a filtered list of entitys that have a life expectency of one standard deviation above the mean\n",
    "EntityOneSTD = df.loc[df['Life expectancy at birth (years)'] > oneStdOverMean] \n",
    "EntityOneSTD['Entity']"
   ]
  },
  {
   "cell_type": "markdown",
   "metadata": {},
   "source": [
    "Above we can see a list of all the countries that have a life expectency of one standard deviation above the mean"
   ]
  },
  {
   "cell_type": "markdown",
   "metadata": {},
   "source": [
    "# b"
   ]
  },
  {
   "cell_type": "markdown",
   "metadata": {},
   "source": [
    "What we decided to define as \"high\" life expectancy as above the mean and \"low\" GDP as below the mean. "
   ]
  },
  {
   "cell_type": "code",
   "execution_count": 10,
   "metadata": {},
   "outputs": [],
   "source": [
    "lowGDP = df['GDP per capita ($)'].mean()"
   ]
  },
  {
   "cell_type": "code",
   "execution_count": 11,
   "metadata": {},
   "outputs": [],
   "source": [
    "highLE = df['Life expectancy at birth (years)'].mean()"
   ]
  },
  {
   "cell_type": "code",
   "execution_count": 12,
   "metadata": {},
   "outputs": [
    {
     "data": {
      "text/plain": [
       "502           Albania\n",
       "722           Algeria\n",
       "1602        Argentina\n",
       "1822          Armenia\n",
       "2680       Azerbaijan\n",
       "             ...     \n",
       "47939      Uzbekistan\n",
       "48599       Venezuela\n",
       "48819         Vietnam\n",
       "48955    Western Asia\n",
       "49386           World\n",
       "Name: Entity, Length: 84, dtype: object"
      ]
     },
     "execution_count": 12,
     "metadata": {},
     "output_type": "execute_result"
    }
   ],
   "source": [
    "HiLElowGDP = df.loc[(df['Life expectancy at birth (years)'] > highLE)]\n",
    "HiLElowGDP = HiLElowGDP.loc[(HiLElowGDP['GDP per capita ($)'] < lowGDP)]\n",
    "HiLElowGDP['Entity']"
   ]
  },
  {
   "cell_type": "markdown",
   "metadata": {},
   "source": []
  },
  {
   "cell_type": "markdown",
   "metadata": {},
   "source": [
    "# c"
   ]
  },
  {
   "cell_type": "code",
   "execution_count": 13,
   "metadata": {},
   "outputs": [
    {
     "data": {
      "text/plain": [
       "12861    Equatorial Guinea\n",
       "Name: Entity, dtype: object"
      ]
     },
     "execution_count": 13,
     "metadata": {},
     "output_type": "execute_result"
    }
   ],
   "source": [
    "HiLElowGDP = df.loc[(df['Life expectancy at birth (years)'] < highLE)]\n",
    "HiLElowGDP = HiLElowGDP.loc[(HiLElowGDP['GDP per capita ($)'] > lowGDP)]\n",
    "HiLElowGDP['Entity']"
   ]
  },
  {
   "cell_type": "markdown",
   "metadata": {},
   "source": [
    "## 2"
   ]
  },
  {
   "cell_type": "code",
   "execution_count": 14,
   "metadata": {},
   "outputs": [
    {
     "data": {
      "text/plain": [
       "<matplotlib.collections.PathCollection at 0x1ebccfe5588>"
      ]
     },
     "execution_count": 14,
     "metadata": {},
     "output_type": "execute_result"
    },
    {
     "data": {
      "image/png": "[encoded data removed]",
      "text/plain": [
       "<Figure size 432x288 with 1 Axes>"
      ]
     },
     "metadata": {
      "needs_background": "light"
     },
     "output_type": "display_data"
    }
   ],
   "source": [
    "df = pd.read_csv(\"../assignment1/gdp-vs-happiness.csv\")\n",
    "df = df.loc[df['Year'] == 2017]\n",
    "df = df.dropna(subset=['GDP per capita (constant 2011 international $)',' Life satisfaction (country average; 0-10) (Cantril Ladder (0=worst; 10=best))'])\n",
    "plt.scatter(df['GDP per capita (constant 2011 international $)'],df[' Life satisfaction (country average; 0-10) (Cantril Ladder (0=worst; 10=best))'])"
   ]
  },
  {
   "cell_type": "markdown",
   "metadata": {},
   "source": [
    "## Corruption and trust in government"
   ]
  },
  {
   "cell_type": "markdown",
   "metadata": {},
   "source": [
    "Here we make a scatter plot of trust in government compared to corruption index where a lower index means more corruption, for different countries.\n",
    "\n",
    "This data and the following data that are presented are only taken from 2018 since we want relevant data and we want a fair comparison between all countries.\n"
   ]
  },
  {
   "cell_type": "code",
   "execution_count": 17,
   "metadata": {
    "scrolled": true
   },
   "outputs": [
    {
     "data": {
      "image/png": "[encoded data removed]",
      "text/plain": [
       "<Figure size 432x288 with 1 Axes>"
      ]
     },
     "metadata": {
      "needs_background": "light"
     },
     "output_type": "display_data"
    }
   ],
   "source": [
    "trust = pd.read_csv(\"share-who-trust-government.csv\")\n",
    "corruption = pd.read_csv(\"TI-corruption-perception-index.csv\")\n",
    "\n",
    "trust=trust.loc[trust['Year'] == 2018]\n",
    "corruption=corruption.loc[corruption['Year'] == 2018]\n",
    "\n",
    "# prepare indexes for joining frames\n",
    "corruption.reset_index()\n",
    "corruption.set_index('Entity', inplace = True)\n",
    "trust.set_index('Entity', inplace =True)\n",
    "corruption = corruption.drop(columns = ['Code', 'Year'])\n",
    "\n",
    "ct = trust.join(corruption)\n",
    "\n",
    "plt.scatter(ct['Corruption Perception Index'], ct['Share of people who trust their national government (%)'])\n",
    "plt.show()\n"
   ]
  },
  {
   "cell_type": "markdown",
   "metadata": {},
   "source": [
    "## Countries with high corruption but also high trust\n",
    "here we show a list of all the countries that have high corruption (low corruption index) but still have a high trust in their government. We assume that high and low means that the corresponding value or above respectively below the mean."
   ]
  },
  {
   "cell_type": "code",
   "execution_count": 21,
   "metadata": {},
   "outputs": [
    {
     "data": {
      "text/html": [
       "<div>\n",
       "<style scoped>\n",
       "    .dataframe tbody tr th:only-of-type {\n",
       "        vertical-align: middle;\n",
       "    }\n",
       "\n",
       "    .dataframe tbody tr th {\n",
       "        vertical-align: top;\n",
       "    }\n",
       "\n",
       "    .dataframe thead th {\n",
       "        text-align: right;\n",
       "    }\n",
       "</style>\n",
       "<table border=\"1\" class=\"dataframe\">\n",
       "  <thead>\n",
       "    <tr style=\"text-align: right;\">\n",
       "      <th></th>\n",
       "      <th>Share of people who trust their national government (%)</th>\n",
       "      <th>Corruption Perception Index</th>\n",
       "    </tr>\n",
       "    <tr>\n",
       "      <th>Entity</th>\n",
       "      <th></th>\n",
       "      <th></th>\n",
       "    </tr>\n",
       "  </thead>\n",
       "  <tbody>\n",
       "    <tr>\n",
       "      <td>Armenia</td>\n",
       "      <td>79.742444</td>\n",
       "      <td>35.0</td>\n",
       "    </tr>\n",
       "    <tr>\n",
       "      <td>Azerbaijan</td>\n",
       "      <td>88.280274</td>\n",
       "      <td>25.0</td>\n",
       "    </tr>\n",
       "    <tr>\n",
       "      <td>Bangladesh</td>\n",
       "      <td>85.599574</td>\n",
       "      <td>26.0</td>\n",
       "    </tr>\n",
       "    <tr>\n",
       "      <td>Burkina Faso</td>\n",
       "      <td>54.661103</td>\n",
       "      <td>41.0</td>\n",
       "    </tr>\n",
       "    <tr>\n",
       "      <td>Burundi</td>\n",
       "      <td>60.460616</td>\n",
       "      <td>17.0</td>\n",
       "    </tr>\n",
       "    <tr>\n",
       "      <td>Dominican Republic</td>\n",
       "      <td>54.976300</td>\n",
       "      <td>30.0</td>\n",
       "    </tr>\n",
       "    <tr>\n",
       "      <td>Ethiopia</td>\n",
       "      <td>92.341298</td>\n",
       "      <td>34.0</td>\n",
       "    </tr>\n",
       "    <tr>\n",
       "      <td>Gambia</td>\n",
       "      <td>71.551324</td>\n",
       "      <td>37.0</td>\n",
       "    </tr>\n",
       "    <tr>\n",
       "      <td>Ghana</td>\n",
       "      <td>65.843099</td>\n",
       "      <td>41.0</td>\n",
       "    </tr>\n",
       "    <tr>\n",
       "      <td>India</td>\n",
       "      <td>77.151112</td>\n",
       "      <td>41.0</td>\n",
       "    </tr>\n",
       "    <tr>\n",
       "      <td>Indonesia</td>\n",
       "      <td>72.544216</td>\n",
       "      <td>38.0</td>\n",
       "    </tr>\n",
       "    <tr>\n",
       "      <td>Iran</td>\n",
       "      <td>66.514666</td>\n",
       "      <td>28.0</td>\n",
       "    </tr>\n",
       "    <tr>\n",
       "      <td>Kazakhstan</td>\n",
       "      <td>71.389299</td>\n",
       "      <td>31.0</td>\n",
       "    </tr>\n",
       "    <tr>\n",
       "      <td>Kenya</td>\n",
       "      <td>64.536766</td>\n",
       "      <td>27.0</td>\n",
       "    </tr>\n",
       "    <tr>\n",
       "      <td>Kyrgyzstan</td>\n",
       "      <td>63.341802</td>\n",
       "      <td>29.0</td>\n",
       "    </tr>\n",
       "    <tr>\n",
       "      <td>Liberia</td>\n",
       "      <td>68.713096</td>\n",
       "      <td>32.0</td>\n",
       "    </tr>\n",
       "    <tr>\n",
       "      <td>Malawi</td>\n",
       "      <td>58.134542</td>\n",
       "      <td>32.0</td>\n",
       "    </tr>\n",
       "    <tr>\n",
       "      <td>Mozambique</td>\n",
       "      <td>72.452708</td>\n",
       "      <td>23.0</td>\n",
       "    </tr>\n",
       "    <tr>\n",
       "      <td>Myanmar</td>\n",
       "      <td>88.304771</td>\n",
       "      <td>29.0</td>\n",
       "    </tr>\n",
       "    <tr>\n",
       "      <td>Nepal</td>\n",
       "      <td>71.981133</td>\n",
       "      <td>31.0</td>\n",
       "    </tr>\n",
       "    <tr>\n",
       "      <td>Niger</td>\n",
       "      <td>67.541008</td>\n",
       "      <td>34.0</td>\n",
       "    </tr>\n",
       "    <tr>\n",
       "      <td>Pakistan</td>\n",
       "      <td>57.680364</td>\n",
       "      <td>33.0</td>\n",
       "    </tr>\n",
       "    <tr>\n",
       "      <td>Philippines</td>\n",
       "      <td>72.542712</td>\n",
       "      <td>36.0</td>\n",
       "    </tr>\n",
       "    <tr>\n",
       "      <td>Russia</td>\n",
       "      <td>53.131192</td>\n",
       "      <td>28.0</td>\n",
       "    </tr>\n",
       "    <tr>\n",
       "      <td>Sierra Leone</td>\n",
       "      <td>63.843847</td>\n",
       "      <td>30.0</td>\n",
       "    </tr>\n",
       "    <tr>\n",
       "      <td>Sri Lanka</td>\n",
       "      <td>60.849835</td>\n",
       "      <td>38.0</td>\n",
       "    </tr>\n",
       "    <tr>\n",
       "      <td>Swaziland</td>\n",
       "      <td>65.061737</td>\n",
       "      <td>38.0</td>\n",
       "    </tr>\n",
       "    <tr>\n",
       "      <td>Tanzania</td>\n",
       "      <td>87.617440</td>\n",
       "      <td>36.0</td>\n",
       "    </tr>\n",
       "    <tr>\n",
       "      <td>Thailand</td>\n",
       "      <td>81.600906</td>\n",
       "      <td>36.0</td>\n",
       "    </tr>\n",
       "    <tr>\n",
       "      <td>Turkey</td>\n",
       "      <td>56.582468</td>\n",
       "      <td>41.0</td>\n",
       "    </tr>\n",
       "    <tr>\n",
       "      <td>Uganda</td>\n",
       "      <td>55.487469</td>\n",
       "      <td>26.0</td>\n",
       "    </tr>\n",
       "    <tr>\n",
       "      <td>Uzbekistan</td>\n",
       "      <td>99.219376</td>\n",
       "      <td>23.0</td>\n",
       "    </tr>\n",
       "    <tr>\n",
       "      <td>Zambia</td>\n",
       "      <td>56.703003</td>\n",
       "      <td>35.0</td>\n",
       "    </tr>\n",
       "    <tr>\n",
       "      <td>Zimbabwe</td>\n",
       "      <td>52.910583</td>\n",
       "      <td>22.0</td>\n",
       "    </tr>\n",
       "  </tbody>\n",
       "</table>\n",
       "</div>"
      ],
      "text/plain": [
       "                    Share of people who trust their national government (%)  \\\n",
       "Entity                                                                        \n",
       "Armenia                                                     79.742444         \n",
       "Azerbaijan                                                  88.280274         \n",
       "Bangladesh                                                  85.599574         \n",
       "Burkina Faso                                                54.661103         \n",
       "Burundi                                                     60.460616         \n",
       "Dominican Republic                                          54.976300         \n",
       "Ethiopia                                                    92.341298         \n",
       "Gambia                                                      71.551324         \n",
       "Ghana                                                       65.843099         \n",
       "India                                                       77.151112         \n",
       "Indonesia                                                   72.544216         \n",
       "Iran                                                        66.514666         \n",
       "Kazakhstan                                                  71.389299         \n",
       "Kenya                                                       64.536766         \n",
       "Kyrgyzstan                                                  63.341802         \n",
       "Liberia                                                     68.713096         \n",
       "Malawi                                                      58.134542         \n",
       "Mozambique                                                  72.452708         \n",
       "Myanmar                                                     88.304771         \n",
       "Nepal                                                       71.981133         \n",
       "Niger                                                       67.541008         \n",
       "Pakistan                                                    57.680364         \n",
       "Philippines                                                 72.542712         \n",
       "Russia                                                      53.131192         \n",
       "Sierra Leone                                                63.843847         \n",
       "Sri Lanka                                                   60.849835         \n",
       "Swaziland                                                   65.061737         \n",
       "Tanzania                                                    87.617440         \n",
       "Thailand                                                    81.600906         \n",
       "Turkey                                                      56.582468         \n",
       "Uganda                                                      55.487469         \n",
       "Uzbekistan                                                  99.219376         \n",
       "Zambia                                                      56.703003         \n",
       "Zimbabwe                                                    52.910583         \n",
       "\n",
       "                    Corruption Perception Index  \n",
       "Entity                                           \n",
       "Armenia                                    35.0  \n",
       "Azerbaijan                                 25.0  \n",
       "Bangladesh                                 26.0  \n",
       "Burkina Faso                               41.0  \n",
       "Burundi                                    17.0  \n",
       "Dominican Republic                         30.0  \n",
       "Ethiopia                                   34.0  \n",
       "Gambia                                     37.0  \n",
       "Ghana                                      41.0  \n",
       "India                                      41.0  \n",
       "Indonesia                                  38.0  \n",
       "Iran                                       28.0  \n",
       "Kazakhstan                                 31.0  \n",
       "Kenya                                      27.0  \n",
       "Kyrgyzstan                                 29.0  \n",
       "Liberia                                    32.0  \n",
       "Malawi                                     32.0  \n",
       "Mozambique                                 23.0  \n",
       "Myanmar                                    29.0  \n",
       "Nepal                                      31.0  \n",
       "Niger                                      34.0  \n",
       "Pakistan                                   33.0  \n",
       "Philippines                                36.0  \n",
       "Russia                                     28.0  \n",
       "Sierra Leone                               30.0  \n",
       "Sri Lanka                                  38.0  \n",
       "Swaziland                                  38.0  \n",
       "Tanzania                                   36.0  \n",
       "Thailand                                   36.0  \n",
       "Turkey                                     41.0  \n",
       "Uganda                                     26.0  \n",
       "Uzbekistan                                 23.0  \n",
       "Zambia                                     35.0  \n",
       "Zimbabwe                                   22.0  "
      ]
     },
     "execution_count": 21,
     "metadata": {},
     "output_type": "execute_result"
    }
   ],
   "source": [
    "meanCT = ct.mean()\n",
    "\n",
    "ct2 = ct.loc[ct['Corruption Perception Index'] < meanCT['Corruption Perception Index']]\n",
    "ct3 = ct2.loc[ct2['Share of people who trust their national government (%)'] > meanCT['Share of people who trust their national government (%)']]\n",
    "\n",
    "ct3.drop('Code',axis=1, inplace =True)\n",
    "ct3.drop('Year',axis=1, inplace =True)\n",
    "ct3\n",
    "#meanCT"
   ]
  },
  {
   "cell_type": "code",
   "execution_count": null,
   "metadata": {},
   "outputs": [],
   "source": []
  }
 ],
 "metadata": {
  "kernelspec": {
   "display_name": "Python 3",
   "language": "python",
   "name": "python3"
  },
  "language_info": {
   "codemirror_mode": {
    "name": "ipython",
    "version": 3
   },
   "file_extension": ".py",
   "mimetype": "text/x-python",
   "name": "python",
   "nbconvert_exporter": "python",
   "pygments_lexer": "ipython3",
   "version": "3.7.4"
  }
 },
 "nbformat": 4,
 "nbformat_minor": 2
}
