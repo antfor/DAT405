{
 "cells": [
  {
   "cell_type": "markdown",
   "metadata": {},
   "source": [
    "### 1\n"
   ]
  },
  {
   "cell_type": "code",
   "execution_count": 31,
   "metadata": {},
   "outputs": [],
   "source": [
    "#Import scikit-learn dataset library\n",
    "from sklearn import datasets\n",
    "\n",
    "# Import train_test_split function\n",
    "from sklearn.model_selection import train_test_split\n",
    "\n",
    "#Import Gaussian Naive Bayes model\n",
    "from sklearn.naive_bayes import GaussianNB\n",
    "\n",
    "#Import scikit-learn metrics module for accuracy calculation\n",
    "from sklearn import metrics\n",
    "\n",
    "import numpy as np\n",
    "\n",
    "import pandas as pd\n",
    "\n",
    "import os\n",
    "\n",
    "from sklearn.feature_extraction.text import CountVectorizer"
   ]
  },
  {
   "cell_type": "code",
   "execution_count": 32,
   "metadata": {},
   "outputs": [
    {
     "name": "stdout",
     "output_type": "stream",
     "text": [
      "{'data': [], 'filenames': array([], dtype=float64), 'target_names': [], 'target': array([], dtype=float64), 'DESCR': None}\n"
     ]
    }
   ],
   "source": [
    "spam = datasets.load_files(container_path = \"spam_2\")\n",
    "print(spam)"
   ]
  },
  {
   "cell_type": "code",
   "execution_count": 35,
   "metadata": {},
   "outputs": [
    {
     "name": "stdout",
     "output_type": "stream",
     "text": [
      "['0100', '02', '0400', '0530', '06', '09', '1028311679', '11', '125', '127', '142', '145', '165', '17', '18', '194', '2002', '202', '22', '23', '24', '32', '34', '37', '45', '48', '50', '51', '52', '57', '59', '63', '64', '886', '9e1f5441dd', 'a42a7fc01f2', 'abandoned', 'about', 'above', 'accept', 'address', 'admin', 'agree', 'agreed', 'also', 'alternative', 'altra', 'an', 'and', 'apology', 'are', 'as', 'ascii', 'aug', 'authentication', 'back', 'be', 'because', 'been', 'beenthere', 'before', 'believe', 'beneficial', 'betrayed', 'bettyjagessar', 'big', 'box', 'brief', 'bulk', 'burned', 'business', 'by', 'call', 'cannot', 'changing', 'charset', 'claimed', 'click', 'cnc', 'com', 'companies', 'computer', 'considered', 'content', 'cordially', 'cost', 'could', 'courage', 'cut', 'date', 'deliver', 'delivered', 'doesn', 'dogma', 'dream', 'dreamed', 'dreams', 'drop', 'dsl', 'due', 'earn', 'earning', 'easier', 'edt', 'email', 'emailing', 'emailings', 'erroneous', 'errors', 'esmtp', 'eval', 'ever', 'explicit', 'explicitly', 'expressed', 'eye', 'fact', 'failed', 'fatally', 'feel', 'fetchmail', 'few', 'ffa', 'finally', 'financially', 'flawed', 'flowed', 'follow', 'for', 'form', 'format', 'fortunes', 'free', 'fri', 'friends', 'from', 'g72lqwv13294', 'get', 'going', 'good', 'greetings', 'group', 'has', 'have', 'haven', 'heard', 'here', 'hit', 'honestly', 'honor', 'host', 'hotmail', 'hours', 'http', 'huge', 'hundreds', 'hype', 'id', 'ie', 'if', 'ilug', 'imap', 'important', 'in', 'inbox', 'income', 'info', 'information', 'insanity', 'interest', 'introduce', 'irish', 'is', 'ist', 'it', 'its', 'jm', 'jmason', 'just', 'kind', 'labs', 'landed', 'letter', 'level', 'lies', 'life', 'like', 'links', 'linux', 'list', 'listinfo', 'listmaster', 'll', 'localhost', 'look', 'lugh', 'maildom', 'mailing', 'mailman', 'maintainer', 'many', 'marketing', 'may', 'me', 'meaning', 'member', 'message', 'mime', 'mistake', 'mlm', 'money', 'most', 'multi', 'my', 'necessary', 'need', 'net', 'netnoteinc', 'never', 'new', 'news', 'no', 'not', 'now', 'numerous', 'ny', 'nyc', 'of', 'on', 'once', 'one', 'online', 'only', 'opening', 'opportunities', 'or', 'org', 'our', 'page', 'past', 'path', 'people', 'period', 'permission', 'phobos', 'pitch', 'plain', 'please', 'postfix', 'precedence', 'promise', 'promises', 'pursuit', 'read', 'real', 'receive', 'received', 'receiving', 'recently', 'refreshing', 'removal', 'reply', 'return', 'root', 'sacred', 'sales', 'same', 'see', 'send', 'sender', 'sent', 'services', 'shame', 'siddhi', 'signed', 'signup', 'simply', 'sincere', 'single', 'slashnull', 'smtpd32', 'so', 'someone', 'something', 'spam', 'stabbed', 'start', 'startnow2002', 'state', 'stop', 'story', 'subject', 'subscription', 'such', 'systems', 'tell', 'terms', 'text', 'than', 'that', 'the', 'their', 'then', 'there', 'think', 'this', 'thousands', 'through', 'time', 'to', 'truth', 'tuatha', 'tue', 'type', 'un', 'unsolicitated', 'unsolicited', 'unwanted', 'up', 'us', 'use', 'used', 'users', 've', 'version', 'w142', 'waa31201', 'waa31224', 'wall', 'warning', 'way', 'when', 'which', 'who', 'why', 'will', 'with', 'within', 'wonder', 'words', 'work', 'works', 'would', 'www', 'years', 'yet', 'you', 'your', 'yourself', 'yyyy', 'z064000057']\n"
     ]
    },
    {
     "data": {
      "text/plain": [
       "351"
      ]
     },
     "execution_count": 35,
     "metadata": {},
     "output_type": "execute_result"
    }
   ],
   "source": [
    "#spam2 = np.loadtxt(\"spam_2/00001.317e78fa8ee2f54cd4890fdc09ba8176\")\n",
    "# fromfile\n",
    "#spam2 = np.genfromtxt(\"spam_2/00001.317e78fa8ee2f54cd4890fdc09ba8176\",dtype='str')\n",
    "#spam2 = pd.read_csv('spam_2/00001.317e78fa8ee2f54cd4890fdc09ba8176',sep='\\t')\n",
    "#with open('spam_2/00001.317e78fa8ee2f54cd4890fdc09ba8176', 'r') as file:\n",
    "#    data = file.read().replace('\\n', '')\n",
    "spam2 = []\n",
    "for file in os.listdir(\"spam_2\"):\n",
    "    spam2.append(open('spam_2/00001.317e78fa8ee2f54cd4890fdc09ba8176','r').read())\n",
    "    \n",
    "vectorizer = CountVectorizer()\n",
    "\n",
    "spam2Tokens = vectorizer.fit_transform(spam2)\n",
    "print(vectorizer.get_feature_names())\n",
    "len(vectorizer.get_feature_names())"
   ]
  },
  {
   "cell_type": "code",
   "execution_count": null,
   "metadata": {},
   "outputs": [],
   "source": []
  }
 ],
 "metadata": {
  "kernelspec": {
   "display_name": "Python 3",
   "language": "python",
   "name": "python3"
  },
  "language_info": {
   "codemirror_mode": {
    "name": "ipython",
    "version": 3
   },
   "file_extension": ".py",
   "mimetype": "text/x-python",
   "name": "python",
   "nbconvert_exporter": "python",
   "pygments_lexer": "ipython3",
   "version": "3.7.4"
  }
 },
 "nbformat": 4,
 "nbformat_minor": 2
}
