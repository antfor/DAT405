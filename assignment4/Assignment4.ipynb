{
 "cells": [
  {
   "cell_type": "markdown",
   "metadata": {},
   "source": [
    "Isak Schwartz: 6 hours\n",
    "Anton Forsberg: 6 hours\n",
    "# Assignment 4\n",
    "## notes\n",
    "naive bayes\n",
    "train given spam, ham\n"
   ]
  },
  {
   "cell_type": "markdown",
   "metadata": {},
   "source": [
    "## 1: Preprocessing\n",
    "We start by reading all the spam and ham mails from the given paths in the function createTokens(...). We then divide the mails into training and test data using the function train_test_split inside our custom function called printBAyesianAccuracies(). The split function distributes the mails into training and test data randomly with a distribution of 70% and 30% respectively. This distribution could be tweaked to get better results possibly. If you divide it so you get too little training data the bayesian model can be too specialized to teh few mails that appear in the training data. If it is too big, you dont get enough test mails to verify it with."
   ]
  },
  {
   "cell_type": "markdown",
   "metadata": {},
   "source": [
    "## 2 : python program\n"
   ]
  },
  {
   "cell_type": "markdown",
   "metadata": {},
   "source": [
    "### 2.b : difference between multinomial and bernoulli naive bayes\n"
   ]
  }
 ],
 "metadata": {
  "kernelspec": {
   "display_name": "Python 3",
   "language": "python",
   "name": "python3"
  },
  "language_info": {
   "codemirror_mode": {
    "name": "ipython",
    "version": 3
   },
   "file_extension": ".py",
   "mimetype": "text/x-python",
   "name": "python",
   "nbconvert_exporter": "python",
   "pygments_lexer": "ipython3",
   "version": "3.7.4"
  }
 },
 "nbformat": 4,
 "nbformat_minor": 2
}
